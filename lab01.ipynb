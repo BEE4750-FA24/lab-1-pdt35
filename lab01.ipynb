{
  "cells": [
    {
      "cell_type": "markdown",
      "id": "7b030395-ff9d-488b-893a-3f2925d07a29",
      "metadata": {},
      "source": [
        "# BEE 4750 Lab 1: Julia and GitHub Basics\n",
        "\n",
        "**Name**: Peter Thais\n",
        "\n",
        "**ID**: pdt35\n",
        "\n",
        "> **Due Date**\n",
        ">\n",
        "> Wednesday, 8/28/24, 9:00pm\n",
        "\n",
        "## Setup\n",
        "\n",
        "The following code should go at the top of most Julia scripts; it will\n",
        "load the local package environment and install any needed packages. You\n",
        "will see this often and shouldn’t need to touch it."
      ]
    },
    {
      "cell_type": "code",
      "execution_count": 15,
      "id": "2",
      "metadata": {},
      "outputs": [
        {
          "name": "stderr",
          "output_type": "stream",
          "text": [
            "\u001b[32m\u001b[1m  Activating\u001b[22m\u001b[39m project at `c:\\Users\\peter\\BEE4750\\labs\\lab01`\n",
            "\u001b[32m\u001b[1m   Installed\u001b[22m\u001b[39m Pango_jll ─ v1.54.0+0\n",
            "\u001b[32m\u001b[1m  No Changes\u001b[22m\u001b[39m to `C:\\Users\\peter\\BEE4750\\labs\\lab01\\Project.toml`\n",
            "\u001b[32m\u001b[1m    Updating\u001b[22m\u001b[39m `C:\\Users\\peter\\BEE4750\\labs\\lab01\\Manifest.toml`\n",
            " \u001b[90m [d360d2e6] \u001b[39m\u001b[92m+ ChainRulesCore v1.24.0\u001b[39m\n",
            " \u001b[90m [9e997f8a] \u001b[39m\u001b[92m+ ChangesOfVariables v0.1.9\u001b[39m\n",
            " \u001b[90m [187b0558] \u001b[39m\u001b[92m+ ConstructionBase v1.5.7\u001b[39m\n",
            " \u001b[90m [3587e190] \u001b[39m\u001b[92m+ InverseFunctions v0.1.16\u001b[39m\n",
            " \u001b[90m [ee1fde0b] \u001b[39m\u001b[92m+ Dbus_jll v1.14.10+0\u001b[39m\n",
            " \u001b[90m [0656b61e] \u001b[39m\u001b[93m↑ GLFW_jll v3.4.0+0 ⇒ v3.4.0+1\u001b[39m\n",
            "\u001b[32m⌃\u001b[39m\u001b[90m [36c8627f] \u001b[39m\u001b[92m+ Pango_jll v1.54.0+0\u001b[39m\n",
            " \u001b[90m [1183f4f0] \u001b[39m\u001b[92m+ libdecor_jll v0.2.2+0\u001b[39m\n",
            " \u001b[90m [f27f6e37] \u001b[39m\u001b[93m↑ libvorbis_jll v1.3.7+1 ⇒ v1.3.7+2\u001b[39m\n",
            " \u001b[90m [8bb1440f] \u001b[39m\u001b[93m~ DelimitedFiles v1.9.1 ⇒ \u001b[39m\n",
            " \u001b[90m [b27032c2] \u001b[39m\u001b[95m↓ LibCURL v0.6.4 ⇒ v0.6.3\u001b[39m\n",
            " \u001b[90m [44cfe95a] \u001b[39m\u001b[95m↓ Pkg v1.10.0 ⇒ v1.8.0\u001b[39m\n",
            " \u001b[90m [2f01184e] \u001b[39m\u001b[93m~ SparseArrays v1.10.0 ⇒ \u001b[39m\n",
            " \u001b[90m [10745b16] \u001b[39m\u001b[93m~ Statistics v1.10.0 ⇒ \u001b[39m\n",
            " \u001b[90m [fa267f1f] \u001b[39m\u001b[95m↓ TOML v1.0.3 ⇒ v1.0.0\u001b[39m\n",
            " \u001b[90m [a4e569a6] \u001b[39m\u001b[93m↑ Tar v1.10.0 ⇒ v1.10.1\u001b[39m\n",
            " \u001b[90m [e66e0078] \u001b[39m\u001b[95m↓ CompilerSupportLibraries_jll v1.1.1+0 ⇒ v1.0.1+0\u001b[39m\n",
            " \u001b[90m [deac9b47] \u001b[39m\u001b[95m↓ LibCURL_jll v8.4.0+0 ⇒ v7.84.0+0\u001b[39m\n",
            " \u001b[90m [e37daf67] \u001b[39m\u001b[91m- LibGit2_jll v1.6.4+0\u001b[39m\n",
            " \u001b[90m [29816b5a] \u001b[39m\u001b[95m↓ LibSSH2_jll v1.11.0+1 ⇒ v1.10.2+0\u001b[39m\n",
            " \u001b[90m [c8ffd9c3] \u001b[39m\u001b[95m↓ MbedTLS_jll v2.28.2+1 ⇒ v2.28.0+0\u001b[39m\n",
            " \u001b[90m [14a3606d] \u001b[39m\u001b[95m↓ MozillaCACerts_jll v2023.1.10 ⇒ v2022.2.1\u001b[39m\n",
            " \u001b[90m [4536629a] \u001b[39m\u001b[95m↓ OpenBLAS_jll v0.3.23+4 ⇒ v0.3.20+0\u001b[39m\n",
            " \u001b[90m [05823500] \u001b[39m\u001b[95m↓ OpenLibm_jll v0.8.1+2 ⇒ v0.8.1+0\u001b[39m\n",
            " \u001b[90m [efcefdf7] \u001b[39m\u001b[95m↓ PCRE2_jll v10.42.0+1 ⇒ v10.40.0+0\u001b[39m\n",
            " \u001b[90m [bea87d4a] \u001b[39m\u001b[91m- SuiteSparse_jll v7.2.1+1\u001b[39m\n",
            " \u001b[90m [83775a58] \u001b[39m\u001b[95m↓ Zlib_jll v1.2.13+1 ⇒ v1.2.12+3\u001b[39m\n",
            " \u001b[90m [8e850b90] \u001b[39m\u001b[95m↓ libblastrampoline_jll v5.8.0+1 ⇒ v5.1.1+0\u001b[39m\n",
            " \u001b[90m [8e850ede] \u001b[39m\u001b[95m↓ nghttp2_jll v1.52.0+1 ⇒ v1.48.0+0\u001b[39m\n",
            " \u001b[90m [3f19e933] \u001b[39m\u001b[95m↓ p7zip_jll v17.4.0+2 ⇒ v17.4.0+0\u001b[39m\n",
            "\u001b[36m\u001b[1m        Info\u001b[22m\u001b[39m Packages marked with \u001b[32m⌃\u001b[39m have new versions available and may be upgradable.\n"
          ]
        }
      ],
      "source": [
        "import Pkg\n",
        "Pkg.activate(\".\")\n",
        "Pkg.instantiate()\n",
        "Pkg.resolve()"
      ]
    },
    {
      "cell_type": "markdown",
      "id": "b0c0f53b-93bc-4baa-8b0e-bdb58e8ff961",
      "metadata": {},
      "source": [
        "This next cell loads packages which are required for the rest of the\n",
        "code evaluation. In this case, we only need to load the `Plots.jl`\n",
        "plotting package, but you will see others over the course of the\n",
        "semester (and can add more if desired; just make sure that you’ve [added\n",
        "the new packages to the\n",
        "environment](https://viveks.me/environmental-systems-analysis/tutorials/julia-basics.html#package-management)).\n",
        "Standard Julia practice is to load all of the needed packages at the top\n",
        "of the file.\n",
        "\n",
        "> **Warning**\n",
        ">\n",
        "> Loading packages can take a while, especially the first time! Julia\n",
        "> tries to precompile all of the packages you’re using so repeat use is\n",
        "> faster, but this can be quite slow at first."
      ]
    },
    {
      "cell_type": "code",
      "execution_count": 16,
      "id": "4",
      "metadata": {},
      "outputs": [],
      "source": [
        "using Plots"
      ]
    },
    {
      "cell_type": "markdown",
      "id": "6d2bc421-d992-4864-a390-fd6d7820f6c0",
      "metadata": {},
      "source": [
        "## Introduction\n",
        "\n",
        "### Julia\n",
        "\n",
        "Julia is an up-and-coming language, originally developed for scientific\n",
        "programming. While learning a new programming language always has its\n",
        "hiccups, the good news is that if you’ve programmed in a high-level\n",
        "language such as Python or MATLAB, most Julia concepts should look\n",
        "familiar.\n",
        "\n",
        "If you have not successfully set up Julia, follow the instructions in\n",
        "[Tools\n",
        "Setup](https://viveks.me/environmental-systems-analysis/setup.html)\n",
        "and/or ask for help.\n",
        "\n",
        "You can use other editors for this course, but our recommendation is\n",
        "[Visual Studio Code](https://code.visualstudio.com/) with the [Julia\n",
        "extension](https://marketplace.visualstudio.com/items?itemName=julialang.language-julia),\n",
        "which will make life a *lot* simpler! You should have set this up by\n",
        "following the [Tools\n",
        "Setup](https://viveks.me/environmental-systems-analysis/setup.html)\n",
        "instructions, but if not, do so now and/or ask for help.\n",
        "\n",
        "### Jupyter Notebooks\n",
        "\n",
        "Jupyter notebooks integrate text and equations in Markdown with Julia\n",
        "(or Python, or R) code. To do this, Jupyter notebooks consist of two\n",
        "types of “cells”: code cells and Markdown (text) cells.\n",
        "\n",
        "Click once on this section of text. A box will appear around this text\n",
        "(and some areas above/below it) - all of that is within this cell.\n",
        "\n",
        "Markdown is a text markup framework for formatting language that makes\n",
        "things look pretty when viewed across different platforms: web browsers,\n",
        "notebooks, and so forth. Text written in Markdown can also include\n",
        "hyperlinks, LaTeX equations, section headers, and images, among other\n",
        "features (most of [the course\n",
        "website](https://viveks.me/climate-risk-analysis) and the lecture notes\n",
        "were all written in Markdown!). [Here is a basic Markdown cheat\n",
        "sheet](https://www.markdownguide.org/cheat-sheet/).\n",
        "\n",
        "What you are looking at right now is the formatted text after the\n",
        "Markdown is processed. To see the raw Markdown, do one of:\n",
        "\n",
        "-   press `Enter` while that cell is selected, or\n",
        "-   double-click on that cell.\n",
        "\n",
        "------------------------------------------------------------------------\n",
        "\n",
        "A couple of the features you will see in this Markdown cell:\n",
        "\n",
        "-   The `---` command creates a horizontal line. This is also nice for\n",
        "    separating sections.\n",
        "-   Backticks (`` `...` ``) can be used to format and highlight code,\n",
        "    keystrokes, etc.\n",
        "-   The `#` sign is used to create a new section header; two `#` signs\n",
        "    (`##`) is used to create a new subsection header; `###` creates a\n",
        "    subsubsection, and so on.\n",
        "-   You can create a bulleted list by using the asterisk `*` or a dash\n",
        "    `-` and a space.\n",
        "-   You can create regular text by just typing as usual.\n",
        "-   You can create **bold-faced text** by wrapping it with two asterisks\n",
        "    on both sides.\n",
        "-   You can create *italicized text* by wrapping it with a single\n",
        "    asterisk on both sides.\n",
        "-   To create a new paragraph, you must include a blank line between the\n",
        "    old and new paragraphs.\n",
        "\n",
        "At this point you might be wondering how to turn this cell back into the\n",
        "fully formatted Markdown text instead of the raw Markdown you’re\n",
        "probably still looking at. You have a couple of options, depending on\n",
        "your platform, but the most consistent is to type `Shift + Enter` to\n",
        "**execute** the cell (this is also how to run code, but more on that\n",
        "later).\n",
        "\n",
        "Additionally, you will frequently need to create new cells in your\n",
        "Jupyter notebooks. How you do this will depend on how you interact with\n",
        "the notebook, but try to figure this out now.\n",
        "\n",
        "One tip is to think carefully about what bits of code should be in the\n",
        "same cell, as you typically only see output from the last command in a\n",
        "cell. For example, compare the following:"
      ]
    },
    {
      "cell_type": "code",
      "execution_count": 17,
      "id": "6",
      "metadata": {},
      "outputs": [
        {
          "data": {
            "text/plain": [
              "-0.9589242746631385"
            ]
          },
          "metadata": {},
          "output_type": "display_data"
        }
      ],
      "source": [
        "x = 5\n",
        "sin(x)"
      ]
    },
    {
      "cell_type": "markdown",
      "id": "0b56a2f1-81e8-4426-b62a-95cfc3933b92",
      "metadata": {},
      "source": [
        "with"
      ]
    },
    {
      "cell_type": "code",
      "execution_count": 18,
      "id": "8",
      "metadata": {},
      "outputs": [
        {
          "data": {
            "text/plain": [
              "5"
            ]
          },
          "metadata": {},
          "output_type": "display_data"
        }
      ],
      "source": [
        "x = 5"
      ]
    },
    {
      "cell_type": "code",
      "execution_count": 19,
      "id": "10",
      "metadata": {},
      "outputs": [
        {
          "data": {
            "text/plain": [
              "-0.9589242746631385"
            ]
          },
          "metadata": {},
          "output_type": "display_data"
        }
      ],
      "source": [
        "sin(x)"
      ]
    },
    {
      "cell_type": "markdown",
      "id": "474d541d-93e6-47e1-874f-80abd6c9d7cc",
      "metadata": {},
      "source": [
        "In Julia, you can also suppress the output of a command with a\n",
        "semi-colon:"
      ]
    },
    {
      "cell_type": "code",
      "execution_count": 20,
      "id": "12",
      "metadata": {},
      "outputs": [],
      "source": [
        "sin(x);"
      ]
    },
    {
      "cell_type": "markdown",
      "id": "e5950d08-d04e-4fc7-bed8-33e0ee9a1909",
      "metadata": {},
      "source": [
        "which can help if you want to split some code out for clarity or to\n",
        "insert some text prior to it, but don’t want to clutter the notebook\n",
        "with its output.\n",
        "\n",
        "For code cells, to execute the commands within the cell, we also press\n",
        "`Shift+Enter`.\n",
        "\n",
        "Finally, **make sure that you evaluate all of the code cells in order\n",
        "before submitting**. One bad outcome with notebooks occurs when cells\n",
        "are evaluated out of order, so fixed bugs and edits in previous cells do\n",
        "not get a chance to propagate down. You can do this with the `Run All`\n",
        "command in whichever interface you’re using to edit your notebook.\n",
        "\n",
        "### Julia Basics\n",
        "\n",
        "There are many tutorials and references for Julia, including a [basics\n",
        "overview on the class website](../tutorials/julia-basics.html). Please\n",
        "feel free to reference these as you work through any part of the course.\n",
        "\n",
        "### Formatting Math\n",
        "\n",
        "It will often be helpful to include nicely-formatted mathematics in a\n",
        "notebook. Markdown accomodates this using LaTeX syntax. A LaTeX\n",
        "cheatsheet is available on the class website, and many other guides\n",
        "exist online.\n",
        "\n",
        "Below is an example of a formatted equation: $$x = 5.$$\n",
        "\n",
        "### Looking For Help\n",
        "\n",
        "There is no shame in using Google, or other resources, for help when\n",
        "programming. There are many, many times when you can’t quite get the\n",
        "syntax to work, can’t quite figure out the right package or command to\n",
        "use, or are feeling too lazy or overwhelmed (I’m not judging either of\n",
        "those!) to dig through the documentation. Some good resources include:\n",
        "\n",
        "-   [Stack Overflow](https://stackoverflow.com/) is a treasure trove of\n",
        "    answers;\n",
        "-   The [official Julia forum](https://discourse.julialang.org/) and the\n",
        "    [Julia Subreddit](https://www.reddit.com/r/Julia/) are also very\n",
        "    useful.\n",
        "\n",
        "You are also highly encouraged to post on [Ed\n",
        "Discussion](https://us.edstem.org), though getting a response might be\n",
        "less immediate. Just be mindful that to get good answers, [you have to\n",
        "help people help you](https://stackoverflow.com/help/how-to-ask), and\n",
        "**make sure to give credit to any resources that were helpful**!\n",
        "\n",
        "## Exercises (3 points)\n",
        "\n",
        "Use your understanding of Julia syntax and the GitHub workflow to\n",
        "complete the following (hopefully short) exercises. Convert your\n",
        "completed lab assignment to a PDF and submit it to the Gradescope\n",
        "Assignment “Lab 1”.\n",
        "\n",
        "**Remember to**:\n",
        "\n",
        "-   Include a (succint but clear) writeup of the core idea underlying\n",
        "    your code, through some combination of equations, text, and\n",
        "    algorithms. As you are not required to submit your code, we will not\n",
        "    be looking at it in detail, and instead will rely on those writeups\n",
        "    to assess whether your approach is correct.\n",
        "-   If using the notebook, evaluate all of your code cells, in order\n",
        "    (using a `Run All` command). This will make sure all output is\n",
        "    visible and that the code cells were evaluated in the correct order.\n",
        "-   Tag each of the problems when you submit to Gradescope; a 10%\n",
        "    penalty will be deducted if this is not done.\n",
        "\n",
        "### Computing a Dot Product\n",
        "\n",
        "Given two numeric arrays `x` and `y`, write a function to compute their\n",
        "dot product if they have equal length, and return an error if not (this\n",
        "is useful for debugging!). Use the following code as a starting point."
      ]
    },
    {
      "cell_type": "code",
      "execution_count": 21,
      "id": "14",
      "metadata": {},
      "outputs": [
        {
          "data": {
            "text/plain": [
              "dot_product (generic function with 1 method)"
            ]
          },
          "metadata": {},
          "output_type": "display_data"
        }
      ],
      "source": [
        "function dot_product(x, y)\n",
        "    if length(x) == length(y) # insert test condition for equal lengths\n",
        "        return sum(x .* y) # compute and return dot product\n",
        "    else \n",
        "        throw(DimensionMismatch(\"length of x not equal to length of y\"))\n",
        "    end\n",
        "end"
      ]
    },
    {
      "cell_type": "markdown",
      "id": "4dee1204",
      "metadata": {},
      "source": [
        "### Code Explanation\n",
        "For my function, I used the if statement to ensure that the numeric arrays were of equal length. If they were, I used the .* operation to multiply each element in the ray and summed up the total."
      ]
    },
    {
      "cell_type": "markdown",
      "id": "e0ce47a6-a5e8-4cd8-a776-5b04adfa6330",
      "metadata": {},
      "source": [
        "Here are some tests to make sure your code works as intended. Tests like\n",
        "these are useful to make sure everything works as intended. One reason\n",
        "to split your code up into functions is that it makes it straightforward\n",
        "to write tests to make sure each piece of your code works, which makes\n",
        "it easier to identify where errors are occuring."
      ]
    },
    {
      "cell_type": "code",
      "execution_count": 22,
      "id": "16",
      "metadata": {},
      "outputs": [
        {
          "data": {
            "text/plain": [
              "32"
            ]
          },
          "metadata": {},
          "output_type": "display_data"
        }
      ],
      "source": [
        "dot_product([1 2 3], [4 5 6])"
      ]
    },
    {
      "cell_type": "markdown",
      "id": "37f85171-25e8-4513-b57c-af25ff4378e7",
      "metadata": {},
      "source": [
        "If you know the value you should get, you can write a more formal test\n",
        "using the `@assert` macro, which is a good way to “automate” checking\n",
        "(since you get an obvious error if the code doesn’t work as desired):"
      ]
    },
    {
      "cell_type": "code",
      "execution_count": 23,
      "id": "18",
      "metadata": {},
      "outputs": [],
      "source": [
        "@assert dot_product([1 2 3], [4 5 6]) == 32"
      ]
    },
    {
      "cell_type": "markdown",
      "id": "65ccdcd8-449e-4f0c-8f4e-7953ea267f8d",
      "metadata": {},
      "source": [
        "Let’s also make sure we get an error when the dimensions of the two\n",
        "vectors don’t match:"
      ]
    },
    {
      "cell_type": "code",
      "execution_count": 24,
      "id": "20",
      "metadata": {},
      "outputs": [
        {
          "ename": "DimensionMismatch",
          "evalue": "DimensionMismatch: length of x not equal to length of y",
          "output_type": "error",
          "traceback": [
            "DimensionMismatch: length of x not equal to length of y\n",
            "\n",
            "Stacktrace:\n",
            " [1] dot_product(x::Matrix{Int64}, y::Matrix{Int64})\n",
            "   @ Main c:\\Users\\peter\\BEE4750\\labs\\lab01\\jl_notebook_cell_df34fa98e69747e1a8f8a730347b8e2f_X15sZmlsZQ==.jl:6\n",
            " [2] top-level scope\n",
            "   @ c:\\Users\\peter\\BEE4750\\labs\\lab01\\jl_notebook_cell_df34fa98e69747e1a8f8a730347b8e2f_X24sZmlsZQ==.jl:1"
          ]
        }
      ],
      "source": [
        "dot_product([1 2 3], [4 5])"
      ]
    },
    {
      "cell_type": "markdown",
      "id": "8c069a05-159a-43b4-aa3f-d1fec9a2f727",
      "metadata": {},
      "source": [
        "### Making a Plot\n",
        "\n",
        "Write a function to compute the square of an integer `x`. Evaluate this\n",
        "function for integers between $x=-5$ and $x=5$ and make a plot of the\n",
        "squared values (you can find a quick guide to making various types of\n",
        "plots\n",
        "[here](https://viveks.me/environmental-systems-analysis/tutorials/julia-plots.html)).\n",
        "Make sure to label your axes."
      ]
    },
    {
      "cell_type": "code",
      "execution_count": 25,
      "id": "22",
      "metadata": {},
      "outputs": [
        {
          "data": {
            "image/png": "[encoded data removed]",
            "image/svg+xml": [
              "<?xml version=\"1.0\" encoding=\"utf-8\"?>\n",
              "<svg xmlns=\"http://www.w3.org/2000/svg\" xmlns:xlink=\"http://www.w3.org/1999/xlink\" width=\"600\" height=\"400\" viewBox=\"0 0 2400 1600\">\n",
              "<defs>\n",
              "  <clipPath id=\"clip520\">\n",
              "    <rect x=\"0\" y=\"0\" width=\"2400\" height=\"1600\"/>\n",
              "  </clipPath>\n",
              "</defs>\n",
              "<path clip-path=\"url(#clip520)\" d=\"M0 1600 L2400 1600 L2400 0 L0 0  Z\" fill=\"#ffffff\" fill-rule=\"evenodd\" fill-opacity=\"1\"/>\n",
              "<defs>\n",
              "  <clipPath id=\"clip521\">\n",
              "    <rect x=\"480\" y=\"0\" width=\"1681\" height=\"1600\"/>\n",
              "  </clipPath>\n",
              "</defs>\n",
              "<path clip-path=\"url(#clip520)\" d=\"M203.964 1423.18 L2352.76 1423.18 L2352.76 123.472 L203.964 123.472  Z\" fill=\"#ffffff\" fill-rule=\"evenodd\" fill-opacity=\"1\"/>\n",
              "<defs>\n",
              "  <clipPath id=\"clip522\">\n",
              "    <rect x=\"203\" y=\"123\" width=\"2150\" height=\"1301\"/>\n",
              "  </clipPath>\n",
              "</defs>\n",
              "<polyline clip-path=\"url(#clip522)\" style=\"stroke:#000000; stroke-linecap:round; stroke-linejoin:round; stroke-width:2; stroke-opacity:0.1; fill:none\" points=\"467.495,1423.18 467.495,123.472 \"/>\n",
              "<polyline clip-path=\"url(#clip522)\" style=\"stroke:#000000; stroke-linecap:round; stroke-linejoin:round; stroke-width:2; stroke-opacity:0.1; fill:none\" points=\"872.927,1423.18 872.927,123.472 \"/>\n",
              "<polyline clip-path=\"url(#clip522)\" style=\"stroke:#000000; stroke-linecap:round; stroke-linejoin:round; stroke-width:2; stroke-opacity:0.1; fill:none\" points=\"1278.36,1423.18 1278.36,123.472 \"/>\n",
              "<polyline clip-path=\"url(#clip522)\" style=\"stroke:#000000; stroke-linecap:round; stroke-linejoin:round; stroke-width:2; stroke-opacity:0.1; fill:none\" points=\"1683.79,1423.18 1683.79,123.472 \"/>\n",
              "<polyline clip-path=\"url(#clip522)\" style=\"stroke:#000000; stroke-linecap:round; stroke-linejoin:round; stroke-width:2; stroke-opacity:0.1; fill:none\" points=\"2089.22,1423.18 2089.22,123.472 \"/>\n",
              "<polyline clip-path=\"url(#clip520)\" style=\"stroke:#000000; stroke-linecap:round; stroke-linejoin:round; stroke-width:4; stroke-opacity:1; fill:none\" points=\"203.964,1423.18 2352.76,1423.18 \"/>\n",
              "<polyline clip-path=\"url(#clip520)\" style=\"stroke:#000000; stroke-linecap:round; stroke-linejoin:round; stroke-width:4; stroke-opacity:1; fill:none\" points=\"467.495,1423.18 467.495,1404.28 \"/>\n",
              "<polyline clip-path=\"url(#clip520)\" style=\"stroke:#000000; stroke-linecap:round; stroke-linejoin:round; stroke-width:4; stroke-opacity:1; fill:none\" points=\"872.927,1423.18 872.927,1404.28 \"/>\n",
              "<polyline clip-path=\"url(#clip520)\" style=\"stroke:#000000; stroke-linecap:round; stroke-linejoin:round; stroke-width:4; stroke-opacity:1; fill:none\" points=\"1278.36,1423.18 1278.36,1404.28 \"/>\n",
              "<polyline clip-path=\"url(#clip520)\" style=\"stroke:#000000; stroke-linecap:round; stroke-linejoin:round; stroke-width:4; stroke-opacity:1; fill:none\" points=\"1683.79,1423.18 1683.79,1404.28 \"/>\n",
              "<polyline clip-path=\"url(#clip520)\" style=\"stroke:#000000; stroke-linecap:round; stroke-linejoin:round; stroke-width:4; stroke-opacity:1; fill:none\" points=\"2089.22,1423.18 2089.22,1404.28 \"/>\n",
              "<path clip-path=\"url(#clip520)\" d=\"M436.395 1468.75 L466.071 1468.75 L466.071 1472.69 L436.395 1472.69 L436.395 1468.75 Z\" fill=\"#000000\" fill-rule=\"nonzero\" fill-opacity=\"1\" /><path clip-path=\"url(#clip520)\" d=\"M489.011 1455.09 L477.205 1473.54 L489.011 1473.54 L489.011 1455.09 M487.784 1451.02 L493.664 1451.02 L493.664 1473.54 L498.594 1473.54 L498.594 1477.43 L493.664 1477.43 L493.664 1485.58 L489.011 1485.58 L489.011 1477.43 L473.409 1477.43 L473.409 1472.92 L487.784 1451.02 Z\" fill=\"#000000\" fill-rule=\"nonzero\" fill-opacity=\"1\" /><path clip-path=\"url(#clip520)\" d=\"M842.87 1468.75 L872.545 1468.75 L872.545 1472.69 L842.87 1472.69 L842.87 1468.75 Z\" fill=\"#000000\" fill-rule=\"nonzero\" fill-opacity=\"1\" /><path clip-path=\"url(#clip520)\" d=\"M886.666 1481.64 L902.985 1481.64 L902.985 1485.58 L881.041 1485.58 L881.041 1481.64 Q883.703 1478.89 888.286 1474.26 Q892.892 1469.61 894.073 1468.27 Q896.318 1465.74 897.198 1464.01 Q898.101 1462.25 898.101 1460.56 Q898.101 1457.8 896.156 1456.07 Q894.235 1454.33 891.133 1454.33 Q888.934 1454.33 886.48 1455.09 Q884.05 1455.86 881.272 1457.41 L881.272 1452.69 Q884.096 1451.55 886.55 1450.97 Q889.004 1450.39 891.041 1450.39 Q896.411 1450.39 899.605 1453.08 Q902.8 1455.77 902.8 1460.26 Q902.8 1462.39 901.99 1464.31 Q901.203 1466.2 899.096 1468.8 Q898.517 1469.47 895.416 1472.69 Q892.314 1475.88 886.666 1481.64 Z\" fill=\"#000000\" fill-rule=\"nonzero\" fill-opacity=\"1\" /><path clip-path=\"url(#clip520)\" d=\"M1278.36 1454.1 Q1274.75 1454.1 1272.92 1457.66 Q1271.11 1461.2 1271.11 1468.33 Q1271.11 1475.44 1272.92 1479.01 Q1274.75 1482.55 1278.36 1482.55 Q1281.99 1482.55 1283.8 1479.01 Q1285.63 1475.44 1285.63 1468.33 Q1285.63 1461.2 1283.8 1457.66 Q1281.99 1454.1 1278.36 1454.1 M1278.36 1450.39 Q1284.17 1450.39 1287.23 1455 Q1290.3 1459.58 1290.3 1468.33 Q1290.3 1477.06 1287.23 1481.67 Q1284.17 1486.25 1278.36 1486.25 Q1272.55 1486.25 1269.47 1481.67 Q1266.42 1477.06 1266.42 1468.33 Q1266.42 1459.58 1269.47 1455 Q1272.55 1450.39 1278.36 1450.39 Z\" fill=\"#000000\" fill-rule=\"nonzero\" fill-opacity=\"1\" /><path clip-path=\"url(#clip520)\" d=\"M1678.45 1481.64 L1694.76 1481.64 L1694.76 1485.58 L1672.82 1485.58 L1672.82 1481.64 Q1675.48 1478.89 1680.07 1474.26 Q1684.67 1469.61 1685.85 1468.27 Q1688.1 1465.74 1688.98 1464.01 Q1689.88 1462.25 1689.88 1460.56 Q1689.88 1457.8 1687.94 1456.07 Q1686.01 1454.33 1682.91 1454.33 Q1680.71 1454.33 1678.26 1455.09 Q1675.83 1455.86 1673.05 1457.41 L1673.05 1452.69 Q1675.88 1451.55 1678.33 1450.97 Q1680.78 1450.39 1682.82 1450.39 Q1688.19 1450.39 1691.38 1453.08 Q1694.58 1455.77 1694.58 1460.26 Q1694.58 1462.39 1693.77 1464.31 Q1692.98 1466.2 1690.88 1468.8 Q1690.3 1469.47 1687.2 1472.69 Q1684.09 1475.88 1678.45 1481.64 Z\" fill=\"#000000\" fill-rule=\"nonzero\" fill-opacity=\"1\" /><path clip-path=\"url(#clip520)\" d=\"M2092.23 1455.09 L2080.43 1473.54 L2092.23 1473.54 L2092.23 1455.09 M2091.01 1451.02 L2096.89 1451.02 L2096.89 1473.54 L2101.82 1473.54 L2101.82 1477.43 L2096.89 1477.43 L2096.89 1485.58 L2092.23 1485.58 L2092.23 1477.43 L2076.63 1477.43 L2076.63 1472.92 L2091.01 1451.02 Z\" fill=\"#000000\" fill-rule=\"nonzero\" fill-opacity=\"1\" /><path clip-path=\"url(#clip520)\" d=\"M1052.39 1520.52 L1058.82 1520.52 L1058.82 1568.04 L1052.39 1568.04 L1052.39 1520.52 Z\" fill=\"#000000\" fill-rule=\"nonzero\" fill-opacity=\"1\" /><path clip-path=\"url(#clip520)\" d=\"M1101 1546.53 L1101 1568.04 L1095.14 1568.04 L1095.14 1546.72 Q1095.14 1541.66 1093.17 1539.14 Q1091.19 1536.63 1087.25 1536.63 Q1082.5 1536.63 1079.77 1539.65 Q1077.03 1542.68 1077.03 1547.9 L1077.03 1568.04 L1071.14 1568.04 L1071.14 1532.4 L1077.03 1532.4 L1077.03 1537.93 Q1079.13 1534.72 1081.96 1533.13 Q1084.83 1531.54 1088.55 1531.54 Q1094.69 1531.54 1097.84 1535.36 Q1101 1539.14 1101 1546.53 Z\" fill=\"#000000\" fill-rule=\"nonzero\" fill-opacity=\"1\" /><path clip-path=\"url(#clip520)\" d=\"M1118.47 1522.27 L1118.47 1532.4 L1130.53 1532.4 L1130.53 1536.95 L1118.47 1536.95 L1118.47 1556.3 Q1118.47 1560.66 1119.65 1561.9 Q1120.86 1563.14 1124.52 1563.14 L1130.53 1563.14 L1130.53 1568.04 L1124.52 1568.04 Q1117.74 1568.04 1115.16 1565.53 Q1112.58 1562.98 1112.58 1556.3 L1112.58 1536.95 L1108.28 1536.95 L1108.28 1532.4 L1112.58 1532.4 L1112.58 1522.27 L1118.47 1522.27 Z\" fill=\"#000000\" fill-rule=\"nonzero\" fill-opacity=\"1\" /><path clip-path=\"url(#clip520)\" d=\"M1168.73 1548.76 L1168.73 1551.62 L1141.8 1551.62 Q1142.18 1557.67 1145.43 1560.85 Q1148.71 1564 1154.53 1564 Q1157.9 1564 1161.06 1563.17 Q1164.24 1562.35 1167.36 1560.69 L1167.36 1566.23 Q1164.21 1567.57 1160.9 1568.27 Q1157.59 1568.97 1154.18 1568.97 Q1145.65 1568.97 1140.65 1564 Q1135.69 1559.04 1135.69 1550.57 Q1135.69 1541.82 1140.4 1536.69 Q1145.14 1531.54 1153.16 1531.54 Q1160.36 1531.54 1164.52 1536.18 Q1168.73 1540.8 1168.73 1548.76 M1162.87 1547.04 Q1162.81 1542.23 1160.16 1539.37 Q1157.55 1536.5 1153.23 1536.5 Q1148.32 1536.5 1145.36 1539.27 Q1142.44 1542.04 1141.99 1547.07 L1162.87 1547.04 Z\" fill=\"#000000\" fill-rule=\"nonzero\" fill-opacity=\"1\" /><path clip-path=\"url(#clip520)\" d=\"M1201.8 1549.81 Q1201.8 1543.44 1199.15 1539.94 Q1196.54 1536.44 1191.8 1536.44 Q1187.09 1536.44 1184.45 1539.94 Q1181.84 1543.44 1181.84 1549.81 Q1181.84 1556.14 1184.45 1559.64 Q1187.09 1563.14 1191.8 1563.14 Q1196.54 1563.14 1199.15 1559.64 Q1201.8 1556.14 1201.8 1549.81 M1207.65 1563.62 Q1207.65 1572.72 1203.61 1577.15 Q1199.57 1581.6 1191.23 1581.6 Q1188.14 1581.6 1185.4 1581.13 Q1182.67 1580.68 1180.09 1579.72 L1180.09 1574.03 Q1182.67 1575.43 1185.18 1576.1 Q1187.7 1576.76 1190.31 1576.76 Q1196.07 1576.76 1198.93 1573.74 Q1201.8 1570.75 1201.8 1564.67 L1201.8 1561.77 Q1199.98 1564.92 1197.15 1566.48 Q1194.32 1568.04 1190.37 1568.04 Q1183.81 1568.04 1179.8 1563.05 Q1175.79 1558.05 1175.79 1549.81 Q1175.79 1541.53 1179.8 1536.53 Q1183.81 1531.54 1190.37 1531.54 Q1194.32 1531.54 1197.15 1533.1 Q1199.98 1534.66 1201.8 1537.81 L1201.8 1532.4 L1207.65 1532.4 L1207.65 1563.62 Z\" fill=\"#000000\" fill-rule=\"nonzero\" fill-opacity=\"1\" /><path clip-path=\"url(#clip520)\" d=\"M1250.21 1548.76 L1250.21 1551.62 L1223.28 1551.62 Q1223.66 1557.67 1226.91 1560.85 Q1230.19 1564 1236.01 1564 Q1239.39 1564 1242.54 1563.17 Q1245.72 1562.35 1248.84 1560.69 L1248.84 1566.23 Q1245.69 1567.57 1242.38 1568.27 Q1239.07 1568.97 1235.66 1568.97 Q1227.13 1568.97 1222.13 1564 Q1217.17 1559.04 1217.17 1550.57 Q1217.17 1541.82 1221.88 1536.69 Q1226.62 1531.54 1234.64 1531.54 Q1241.84 1531.54 1246.01 1536.18 Q1250.21 1540.8 1250.21 1548.76 M1244.35 1547.04 Q1244.29 1542.23 1241.65 1539.37 Q1239.04 1536.5 1234.71 1536.5 Q1229.81 1536.5 1226.85 1539.27 Q1223.92 1542.04 1223.47 1547.07 L1244.35 1547.04 Z\" fill=\"#000000\" fill-rule=\"nonzero\" fill-opacity=\"1\" /><path clip-path=\"url(#clip520)\" d=\"M1280.48 1537.87 Q1279.49 1537.3 1278.31 1537.04 Q1277.17 1536.76 1275.77 1536.76 Q1270.8 1536.76 1268.13 1540 Q1265.49 1543.22 1265.49 1549.27 L1265.49 1568.04 L1259.6 1568.04 L1259.6 1532.4 L1265.49 1532.4 L1265.49 1537.93 Q1267.33 1534.69 1270.29 1533.13 Q1273.25 1531.54 1277.48 1531.54 Q1278.09 1531.54 1278.82 1531.63 Q1279.55 1531.7 1280.44 1531.85 L1280.48 1537.87 Z\" fill=\"#000000\" fill-rule=\"nonzero\" fill-opacity=\"1\" /><path clip-path=\"url(#clip520)\" d=\"M1330.13 1545.76 Q1332.2 1546.46 1334.14 1548.76 Q1336.11 1551.05 1338.09 1555.06 L1344.61 1568.04 L1337.7 1568.04 L1331.62 1555.85 Q1329.27 1551.08 1327.04 1549.52 Q1324.85 1547.96 1321.03 1547.96 L1314.02 1547.96 L1314.02 1568.04 L1307.59 1568.04 L1307.59 1520.52 L1322.11 1520.52 Q1330.26 1520.52 1334.27 1523.93 Q1338.28 1527.34 1338.28 1534.21 Q1338.28 1538.7 1336.18 1541.66 Q1334.11 1544.62 1330.13 1545.76 M1314.02 1525.81 L1314.02 1542.68 L1322.11 1542.68 Q1326.76 1542.68 1329.11 1540.54 Q1331.5 1538.38 1331.5 1534.21 Q1331.5 1530.04 1329.11 1527.94 Q1326.76 1525.81 1322.11 1525.81 L1314.02 1525.81 Z\" fill=\"#000000\" fill-rule=\"nonzero\" fill-opacity=\"1\" /><path clip-path=\"url(#clip520)\" d=\"M1367.4 1550.12 Q1360.3 1550.12 1357.57 1551.75 Q1354.83 1553.37 1354.83 1557.29 Q1354.83 1560.4 1356.86 1562.25 Q1358.93 1564.07 1362.47 1564.07 Q1367.34 1564.07 1370.26 1560.63 Q1373.22 1557.16 1373.22 1551.43 L1373.22 1550.12 L1367.4 1550.12 M1379.08 1547.71 L1379.08 1568.04 L1373.22 1568.04 L1373.22 1562.63 Q1371.22 1565.88 1368.23 1567.44 Q1365.24 1568.97 1360.91 1568.97 Q1355.43 1568.97 1352.19 1565.91 Q1348.97 1562.82 1348.97 1557.67 Q1348.97 1551.65 1352.98 1548.6 Q1357.02 1545.54 1365.01 1545.54 L1373.22 1545.54 L1373.22 1544.97 Q1373.22 1540.93 1370.55 1538.73 Q1367.91 1536.5 1363.1 1536.5 Q1360.05 1536.5 1357.15 1537.23 Q1354.25 1537.97 1351.58 1539.43 L1351.58 1534.02 Q1354.8 1532.78 1357.82 1532.17 Q1360.84 1531.54 1363.71 1531.54 Q1371.44 1531.54 1375.26 1535.55 Q1379.08 1539.56 1379.08 1547.71 Z\" fill=\"#000000\" fill-rule=\"nonzero\" fill-opacity=\"1\" /><path clip-path=\"url(#clip520)\" d=\"M1420.78 1546.53 L1420.78 1568.04 L1414.92 1568.04 L1414.92 1546.72 Q1414.92 1541.66 1412.95 1539.14 Q1410.97 1536.63 1407.03 1536.63 Q1402.28 1536.63 1399.55 1539.65 Q1396.81 1542.68 1396.81 1547.9 L1396.81 1568.04 L1390.92 1568.04 L1390.92 1532.4 L1396.81 1532.4 L1396.81 1537.93 Q1398.91 1534.72 1401.74 1533.13 Q1404.61 1531.54 1408.33 1531.54 Q1414.47 1531.54 1417.63 1535.36 Q1420.78 1539.14 1420.78 1546.53 Z\" fill=\"#000000\" fill-rule=\"nonzero\" fill-opacity=\"1\" /><path clip-path=\"url(#clip520)\" d=\"M1455.92 1549.81 Q1455.92 1543.44 1453.27 1539.94 Q1450.66 1536.44 1445.92 1536.44 Q1441.21 1536.44 1438.57 1539.94 Q1435.96 1543.44 1435.96 1549.81 Q1435.96 1556.14 1438.57 1559.64 Q1441.21 1563.14 1445.92 1563.14 Q1450.66 1563.14 1453.27 1559.64 Q1455.92 1556.14 1455.92 1549.81 M1461.77 1563.62 Q1461.77 1572.72 1457.73 1577.15 Q1453.69 1581.6 1445.35 1581.6 Q1442.26 1581.6 1439.52 1581.13 Q1436.79 1580.68 1434.21 1579.72 L1434.21 1574.03 Q1436.79 1575.43 1439.3 1576.1 Q1441.82 1576.76 1444.43 1576.76 Q1450.19 1576.76 1453.05 1573.74 Q1455.92 1570.75 1455.92 1564.67 L1455.92 1561.77 Q1454.1 1564.92 1451.27 1566.48 Q1448.44 1568.04 1444.49 1568.04 Q1437.93 1568.04 1433.92 1563.05 Q1429.91 1558.05 1429.91 1549.81 Q1429.91 1541.53 1433.92 1536.53 Q1437.93 1531.54 1444.49 1531.54 Q1448.44 1531.54 1451.27 1533.1 Q1454.1 1534.66 1455.92 1537.81 L1455.92 1532.4 L1461.77 1532.4 L1461.77 1563.62 Z\" fill=\"#000000\" fill-rule=\"nonzero\" fill-opacity=\"1\" /><path clip-path=\"url(#clip520)\" d=\"M1504.33 1548.76 L1504.33 1551.62 L1477.4 1551.62 Q1477.78 1557.67 1481.03 1560.85 Q1484.31 1564 1490.13 1564 Q1493.5 1564 1496.66 1563.17 Q1499.84 1562.35 1502.96 1560.69 L1502.96 1566.23 Q1499.81 1567.57 1496.5 1568.27 Q1493.19 1568.97 1489.78 1568.97 Q1481.25 1568.97 1476.25 1564 Q1471.29 1559.04 1471.29 1550.57 Q1471.29 1541.82 1476 1536.69 Q1480.74 1531.54 1488.76 1531.54 Q1495.96 1531.54 1500.13 1536.18 Q1504.33 1540.8 1504.33 1548.76 M1498.47 1547.04 Q1498.41 1542.23 1495.76 1539.37 Q1493.15 1536.5 1488.83 1536.5 Q1483.92 1536.5 1480.96 1539.27 Q1478.04 1542.04 1477.59 1547.07 L1498.47 1547.04 Z\" fill=\"#000000\" fill-rule=\"nonzero\" fill-opacity=\"1\" /><polyline clip-path=\"url(#clip522)\" style=\"stroke:#000000; stroke-linecap:round; stroke-linejoin:round; stroke-width:2; stroke-opacity:0.1; fill:none\" points=\"203.964,1386.4 2352.76,1386.4 \"/>\n",
              "<polyline clip-path=\"url(#clip522)\" style=\"stroke:#000000; stroke-linecap:round; stroke-linejoin:round; stroke-width:2; stroke-opacity:0.1; fill:none\" points=\"203.964,1141.17 2352.76,1141.17 \"/>\n",
              "<polyline clip-path=\"url(#clip522)\" style=\"stroke:#000000; stroke-linecap:round; stroke-linejoin:round; stroke-width:2; stroke-opacity:0.1; fill:none\" points=\"203.964,895.94 2352.76,895.94 \"/>\n",
              "<polyline clip-path=\"url(#clip522)\" style=\"stroke:#000000; stroke-linecap:round; stroke-linejoin:round; stroke-width:2; stroke-opacity:0.1; fill:none\" points=\"203.964,650.712 2352.76,650.712 \"/>\n",
              "<polyline clip-path=\"url(#clip522)\" style=\"stroke:#000000; stroke-linecap:round; stroke-linejoin:round; stroke-width:2; stroke-opacity:0.1; fill:none\" points=\"203.964,405.484 2352.76,405.484 \"/>\n",
              "<polyline clip-path=\"url(#clip522)\" style=\"stroke:#000000; stroke-linecap:round; stroke-linejoin:round; stroke-width:2; stroke-opacity:0.1; fill:none\" points=\"203.964,160.256 2352.76,160.256 \"/>\n",
              "<polyline clip-path=\"url(#clip520)\" style=\"stroke:#000000; stroke-linecap:round; stroke-linejoin:round; stroke-width:4; stroke-opacity:1; fill:none\" points=\"203.964,1423.18 203.964,123.472 \"/>\n",
              "<polyline clip-path=\"url(#clip520)\" style=\"stroke:#000000; stroke-linecap:round; stroke-linejoin:round; stroke-width:4; stroke-opacity:1; fill:none\" points=\"203.964,1386.4 222.861,1386.4 \"/>\n",
              "<polyline clip-path=\"url(#clip520)\" style=\"stroke:#000000; stroke-linecap:round; stroke-linejoin:round; stroke-width:4; stroke-opacity:1; fill:none\" points=\"203.964,1141.17 222.861,1141.17 \"/>\n",
              "<polyline clip-path=\"url(#clip520)\" style=\"stroke:#000000; stroke-linecap:round; stroke-linejoin:round; stroke-width:4; stroke-opacity:1; fill:none\" points=\"203.964,895.94 222.861,895.94 \"/>\n",
              "<polyline clip-path=\"url(#clip520)\" style=\"stroke:#000000; stroke-linecap:round; stroke-linejoin:round; stroke-width:4; stroke-opacity:1; fill:none\" points=\"203.964,650.712 222.861,650.712 \"/>\n",
              "<polyline clip-path=\"url(#clip520)\" style=\"stroke:#000000; stroke-linecap:round; stroke-linejoin:round; stroke-width:4; stroke-opacity:1; fill:none\" points=\"203.964,405.484 222.861,405.484 \"/>\n",
              "<polyline clip-path=\"url(#clip520)\" style=\"stroke:#000000; stroke-linecap:round; stroke-linejoin:round; stroke-width:4; stroke-opacity:1; fill:none\" points=\"203.964,160.256 222.861,160.256 \"/>\n",
              "<path clip-path=\"url(#clip520)\" d=\"M156.019 1372.19 Q152.408 1372.19 150.579 1375.76 Q148.774 1379.3 148.774 1386.43 Q148.774 1393.54 150.579 1397.1 Q152.408 1400.64 156.019 1400.64 Q159.653 1400.64 161.459 1397.1 Q163.288 1393.54 163.288 1386.43 Q163.288 1379.3 161.459 1375.76 Q159.653 1372.19 156.019 1372.19 M156.019 1368.49 Q161.829 1368.49 164.885 1373.1 Q167.964 1377.68 167.964 1386.43 Q167.964 1395.16 164.885 1399.76 Q161.829 1404.35 156.019 1404.35 Q150.209 1404.35 147.13 1399.76 Q144.075 1395.16 144.075 1386.43 Q144.075 1377.68 147.13 1373.1 Q150.209 1368.49 156.019 1368.49 Z\" fill=\"#000000\" fill-rule=\"nonzero\" fill-opacity=\"1\" /><path clip-path=\"url(#clip520)\" d=\"M147.061 1123.89 L165.417 1123.89 L165.417 1127.82 L151.343 1127.82 L151.343 1136.3 Q152.362 1135.95 153.38 1135.79 Q154.399 1135.6 155.417 1135.6 Q161.204 1135.6 164.584 1138.77 Q167.964 1141.94 167.964 1147.36 Q167.964 1152.94 164.491 1156.04 Q161.019 1159.12 154.7 1159.12 Q152.524 1159.12 150.255 1158.75 Q148.01 1158.38 145.603 1157.64 L145.603 1152.94 Q147.686 1154.07 149.908 1154.63 Q152.13 1155.18 154.607 1155.18 Q158.612 1155.18 160.95 1153.08 Q163.288 1150.97 163.288 1147.36 Q163.288 1143.75 160.95 1141.64 Q158.612 1139.54 154.607 1139.54 Q152.732 1139.54 150.857 1139.95 Q149.005 1140.37 147.061 1141.25 L147.061 1123.89 Z\" fill=\"#000000\" fill-rule=\"nonzero\" fill-opacity=\"1\" /><path clip-path=\"url(#clip520)\" d=\"M116.668 909.285 L124.306 909.285 L124.306 882.919 L115.996 884.586 L115.996 880.327 L124.26 878.66 L128.936 878.66 L128.936 909.285 L136.575 909.285 L136.575 913.22 L116.668 913.22 L116.668 909.285 Z\" fill=\"#000000\" fill-rule=\"nonzero\" fill-opacity=\"1\" /><path clip-path=\"url(#clip520)\" d=\"M156.019 881.739 Q152.408 881.739 150.579 885.303 Q148.774 888.845 148.774 895.975 Q148.774 903.081 150.579 906.646 Q152.408 910.188 156.019 910.188 Q159.653 910.188 161.459 906.646 Q163.288 903.081 163.288 895.975 Q163.288 888.845 161.459 885.303 Q159.653 881.739 156.019 881.739 M156.019 878.035 Q161.829 878.035 164.885 882.641 Q167.964 887.225 167.964 895.975 Q167.964 904.701 164.885 909.308 Q161.829 913.891 156.019 913.891 Q150.209 913.891 147.13 909.308 Q144.075 904.701 144.075 895.975 Q144.075 887.225 147.13 882.641 Q150.209 878.035 156.019 878.035 Z\" fill=\"#000000\" fill-rule=\"nonzero\" fill-opacity=\"1\" /><path clip-path=\"url(#clip520)\" d=\"M117.663 664.057 L125.302 664.057 L125.302 637.691 L116.992 639.358 L116.992 635.099 L125.255 633.432 L129.931 633.432 L129.931 664.057 L137.57 664.057 L137.57 667.992 L117.663 667.992 L117.663 664.057 Z\" fill=\"#000000\" fill-rule=\"nonzero\" fill-opacity=\"1\" /><path clip-path=\"url(#clip520)\" d=\"M147.061 633.432 L165.417 633.432 L165.417 637.367 L151.343 637.367 L151.343 645.839 Q152.362 645.492 153.38 645.33 Q154.399 645.145 155.417 645.145 Q161.204 645.145 164.584 648.316 Q167.964 651.488 167.964 656.904 Q167.964 662.483 164.491 665.585 Q161.019 668.663 154.7 668.663 Q152.524 668.663 150.255 668.293 Q148.01 667.923 145.603 667.182 L145.603 662.483 Q147.686 663.617 149.908 664.173 Q152.13 664.728 154.607 664.728 Q158.612 664.728 160.95 662.622 Q163.288 660.515 163.288 656.904 Q163.288 653.293 160.95 651.187 Q158.612 649.08 154.607 649.08 Q152.732 649.08 150.857 649.497 Q149.005 649.913 147.061 650.793 L147.061 633.432 Z\" fill=\"#000000\" fill-rule=\"nonzero\" fill-opacity=\"1\" /><path clip-path=\"url(#clip520)\" d=\"M119.885 418.829 L136.204 418.829 L136.204 422.764 L114.26 422.764 L114.26 418.829 Q116.922 416.074 121.505 411.445 Q126.112 406.792 127.292 405.449 Q129.538 402.926 130.417 401.19 Q131.32 399.431 131.32 397.741 Q131.32 394.987 129.376 393.25 Q127.455 391.514 124.353 391.514 Q122.154 391.514 119.7 392.278 Q117.269 393.042 114.492 394.593 L114.492 389.871 Q117.316 388.737 119.769 388.158 Q122.223 387.579 124.26 387.579 Q129.63 387.579 132.825 390.264 Q136.019 392.95 136.019 397.44 Q136.019 399.57 135.209 401.491 Q134.422 403.389 132.316 405.982 Q131.737 406.653 128.635 409.871 Q125.533 413.065 119.885 418.829 Z\" fill=\"#000000\" fill-rule=\"nonzero\" fill-opacity=\"1\" /><path clip-path=\"url(#clip520)\" d=\"M156.019 391.283 Q152.408 391.283 150.579 394.848 Q148.774 398.389 148.774 405.519 Q148.774 412.625 150.579 416.19 Q152.408 419.732 156.019 419.732 Q159.653 419.732 161.459 416.19 Q163.288 412.625 163.288 405.519 Q163.288 398.389 161.459 394.848 Q159.653 391.283 156.019 391.283 M156.019 387.579 Q161.829 387.579 164.885 392.186 Q167.964 396.769 167.964 405.519 Q167.964 414.246 164.885 418.852 Q161.829 423.435 156.019 423.435 Q150.209 423.435 147.13 418.852 Q144.075 414.246 144.075 405.519 Q144.075 396.769 147.13 392.186 Q150.209 387.579 156.019 387.579 Z\" fill=\"#000000\" fill-rule=\"nonzero\" fill-opacity=\"1\" /><path clip-path=\"url(#clip520)\" d=\"M120.88 173.601 L137.2 173.601 L137.2 177.536 L115.256 177.536 L115.256 173.601 Q117.918 170.847 122.501 166.217 Q127.107 161.564 128.288 160.222 Q130.533 157.698 131.413 155.962 Q132.316 154.203 132.316 152.513 Q132.316 149.759 130.371 148.023 Q128.45 146.286 125.348 146.286 Q123.149 146.286 120.695 147.05 Q118.265 147.814 115.487 149.365 L115.487 144.643 Q118.311 143.509 120.765 142.93 Q123.218 142.351 125.255 142.351 Q130.626 142.351 133.82 145.036 Q137.015 147.722 137.015 152.212 Q137.015 154.342 136.204 156.263 Q135.417 158.161 133.311 160.754 Q132.732 161.425 129.63 164.643 Q126.529 167.837 120.88 173.601 Z\" fill=\"#000000\" fill-rule=\"nonzero\" fill-opacity=\"1\" /><path clip-path=\"url(#clip520)\" d=\"M147.061 142.976 L165.417 142.976 L165.417 146.911 L151.343 146.911 L151.343 155.384 Q152.362 155.036 153.38 154.874 Q154.399 154.689 155.417 154.689 Q161.204 154.689 164.584 157.86 Q167.964 161.032 167.964 166.448 Q167.964 172.027 164.491 175.129 Q161.019 178.208 154.7 178.208 Q152.524 178.208 150.255 177.837 Q148.01 177.467 145.603 176.726 L145.603 172.027 Q147.686 173.161 149.908 173.717 Q152.13 174.272 154.607 174.272 Q158.612 174.272 160.95 172.166 Q163.288 170.059 163.288 166.448 Q163.288 162.837 160.95 160.731 Q158.612 158.624 154.607 158.624 Q152.732 158.624 150.857 159.041 Q149.005 159.458 147.061 160.337 L147.061 142.976 Z\" fill=\"#000000\" fill-rule=\"nonzero\" fill-opacity=\"1\" /><path clip-path=\"url(#clip520)\" d=\"M18.0438 953.46 L24.314 953.46 Q22.5634 957.12 21.704 960.366 Q20.8447 963.613 20.8447 966.637 Q20.8447 971.888 22.8817 974.753 Q24.9187 977.586 28.6745 977.586 Q31.8255 977.586 33.4488 975.708 Q35.0402 973.798 36.0269 968.514 L36.8226 964.631 Q38.1912 957.438 41.6605 954.032 Q45.098 950.595 50.8908 950.595 Q57.7976 950.595 61.3624 955.242 Q64.9272 959.857 64.9272 968.801 Q64.9272 972.175 64.1633 975.994 Q63.3994 979.782 61.9035 983.856 L55.2831 983.856 Q57.4793 979.941 58.5933 976.185 Q59.7073 972.429 59.7073 968.801 Q59.7073 963.295 57.543 960.303 Q55.3786 957.311 51.3682 957.311 Q47.8671 957.311 45.8937 959.475 Q43.9204 961.608 42.9337 966.509 L42.1698 970.424 Q40.7375 977.617 37.682 980.832 Q34.6264 984.047 29.1837 984.047 Q22.8817 984.047 19.2532 979.623 Q15.6248 975.167 15.6248 967.369 Q15.6248 964.027 16.2295 960.557 Q16.8343 957.088 18.0438 953.46 Z\" fill=\"#000000\" fill-rule=\"nonzero\" fill-opacity=\"1\" /><path clip-path=\"url(#clip520)\" d=\"M46.212 937.323 Q52.6732 937.323 56.3653 934.681 Q60.0256 932.007 60.0256 927.36 Q60.0256 922.713 56.3653 920.04 Q52.6732 917.366 46.212 917.366 Q39.7508 917.366 36.0905 920.04 Q32.3984 922.713 32.3984 927.36 Q32.3984 932.007 36.0905 934.681 Q39.7508 937.323 46.212 937.323 M58.657 917.366 Q61.8398 919.212 63.3994 922.045 Q64.9272 924.846 64.9272 928.792 Q64.9272 935.254 59.771 939.328 Q54.6147 943.37 46.212 943.37 Q37.8093 943.37 32.6531 939.328 Q27.4968 935.254 27.4968 928.792 Q27.4968 924.846 29.0564 922.045 Q30.5842 919.212 33.7671 917.366 L28.3562 917.366 L28.3562 911.51 L77.5631 911.51 L77.5631 917.366 L58.657 917.366 Z\" fill=\"#000000\" fill-rule=\"nonzero\" fill-opacity=\"1\" /><path clip-path=\"url(#clip520)\" d=\"M49.9359 900.051 L28.3562 900.051 L28.3562 894.195 L49.7131 894.195 Q54.7739 894.195 57.3202 892.221 Q59.8346 890.248 59.8346 886.301 Q59.8346 881.559 56.8109 878.822 Q53.7872 876.053 48.5673 876.053 L28.3562 876.053 L28.3562 870.196 L64.0042 870.196 L64.0042 876.053 L58.5296 876.053 Q61.7762 878.185 63.3676 881.018 Q64.9272 883.819 64.9272 887.543 Q64.9272 893.686 61.1078 896.868 Q57.2883 900.051 49.9359 900.051 M27.4968 885.315 L27.4968 885.315 Z\" fill=\"#000000\" fill-rule=\"nonzero\" fill-opacity=\"1\" /><path clip-path=\"url(#clip520)\" d=\"M46.0847 841.932 Q46.0847 849.03 47.7079 851.767 Q49.3312 854.505 53.2461 854.505 Q56.3653 854.505 58.2114 852.468 Q60.0256 850.399 60.0256 846.866 Q60.0256 841.996 56.5881 839.068 Q53.1188 836.108 47.3897 836.108 L46.0847 836.108 L46.0847 841.932 M43.6657 830.251 L64.0042 830.251 L64.0042 836.108 L58.5933 836.108 Q61.8398 838.113 63.3994 841.105 Q64.9272 844.097 64.9272 848.425 Q64.9272 853.9 61.8716 857.146 Q58.7843 860.361 53.6281 860.361 Q47.6125 860.361 44.5569 856.351 Q41.5014 852.308 41.5014 844.32 L41.5014 836.108 L40.9285 836.108 Q36.8862 836.108 34.6901 838.781 Q32.4621 841.423 32.4621 846.229 Q32.4621 849.285 33.1941 852.181 Q33.9262 855.078 35.3903 857.751 L29.9795 857.751 Q28.7381 854.536 28.1334 851.513 Q27.4968 848.489 27.4968 845.624 Q27.4968 837.89 31.5072 834.071 Q35.5176 830.251 43.6657 830.251 Z\" fill=\"#000000\" fill-rule=\"nonzero\" fill-opacity=\"1\" /><path clip-path=\"url(#clip520)\" d=\"M33.8307 797.532 Q33.2578 798.518 33.0032 799.696 Q32.7167 800.842 32.7167 802.242 Q32.7167 807.207 35.9632 809.881 Q39.1779 812.523 45.2253 812.523 L64.0042 812.523 L64.0042 818.411 L28.3562 818.411 L28.3562 812.523 L33.8944 812.523 Q30.6479 810.677 29.0883 807.717 Q27.4968 804.757 27.4968 800.523 Q27.4968 799.919 27.5923 799.187 Q27.656 798.455 27.8151 797.563 L33.8307 797.532 Z\" fill=\"#000000\" fill-rule=\"nonzero\" fill-opacity=\"1\" /><path clip-path=\"url(#clip520)\" d=\"M44.7161 762.329 L47.5806 762.329 L47.5806 789.256 Q53.6281 788.874 56.8109 785.628 Q59.9619 782.349 59.9619 776.525 Q59.9619 773.151 59.1344 770 Q58.3069 766.817 56.6518 763.698 L62.1899 763.698 Q63.5267 766.849 64.227 770.159 Q64.9272 773.469 64.9272 776.875 Q64.9272 785.405 59.9619 790.402 Q54.9967 795.367 46.5303 795.367 Q37.7774 795.367 32.6531 790.657 Q27.4968 785.914 27.4968 777.893 Q27.4968 770.7 32.1438 766.531 Q36.7589 762.329 44.7161 762.329 M42.9973 768.186 Q38.1912 768.249 35.3266 770.891 Q32.4621 773.501 32.4621 777.83 Q32.4621 782.731 35.2312 785.691 Q38.0002 788.62 43.0292 789.065 L42.9973 768.186 Z\" fill=\"#000000\" fill-rule=\"nonzero\" fill-opacity=\"1\" /><path clip-path=\"url(#clip520)\" d=\"M64.0042 719.488 L16.4842 737.63 L16.4842 730.914 L56.4926 715.86 L16.4842 700.773 L16.4842 694.089 L64.0042 712.199 L64.0042 719.488 Z\" fill=\"#000000\" fill-rule=\"nonzero\" fill-opacity=\"1\" /><path clip-path=\"url(#clip520)\" d=\"M46.0847 676.265 Q46.0847 683.363 47.7079 686.1 Q49.3312 688.837 53.2461 688.837 Q56.3653 688.837 58.2114 686.8 Q60.0256 684.731 60.0256 681.198 Q60.0256 676.329 56.5881 673.4 Q53.1188 670.44 47.3897 670.44 L46.0847 670.44 L46.0847 676.265 M43.6657 664.584 L64.0042 664.584 L64.0042 670.44 L58.5933 670.44 Q61.8398 672.445 63.3994 675.437 Q64.9272 678.429 64.9272 682.758 Q64.9272 688.232 61.8716 691.479 Q58.7843 694.694 53.6281 694.694 Q47.6125 694.694 44.5569 690.683 Q41.5014 686.641 41.5014 678.652 L41.5014 670.44 L40.9285 670.44 Q36.8862 670.44 34.6901 673.114 Q32.4621 675.756 32.4621 680.562 Q32.4621 683.617 33.1941 686.514 Q33.9262 689.41 35.3903 692.084 L29.9795 692.084 Q28.7381 688.869 28.1334 685.845 Q27.4968 682.822 27.4968 679.957 Q27.4968 672.223 31.5072 668.403 Q35.5176 664.584 43.6657 664.584 Z\" fill=\"#000000\" fill-rule=\"nonzero\" fill-opacity=\"1\" /><path clip-path=\"url(#clip520)\" d=\"M14.479 652.521 L14.479 646.664 L64.0042 646.664 L64.0042 652.521 L14.479 652.521 Z\" fill=\"#000000\" fill-rule=\"nonzero\" fill-opacity=\"1\" /><path clip-path=\"url(#clip520)\" d=\"M49.9359 635.015 L28.3562 635.015 L28.3562 629.159 L49.7131 629.159 Q54.7739 629.159 57.3202 627.185 Q59.8346 625.212 59.8346 621.265 Q59.8346 616.523 56.8109 613.785 Q53.7872 611.016 48.5673 611.016 L28.3562 611.016 L28.3562 605.16 L64.0042 605.16 L64.0042 611.016 L58.5296 611.016 Q61.7762 613.149 63.3676 615.982 Q64.9272 618.783 64.9272 622.506 Q64.9272 628.649 61.1078 631.832 Q57.2883 635.015 49.9359 635.015 M27.4968 620.278 L27.4968 620.278 Z\" fill=\"#000000\" fill-rule=\"nonzero\" fill-opacity=\"1\" /><path clip-path=\"url(#clip520)\" d=\"M44.7161 562.605 L47.5806 562.605 L47.5806 589.532 Q53.6281 589.15 56.8109 585.904 Q59.9619 582.625 59.9619 576.801 Q59.9619 573.427 59.1344 570.276 Q58.3069 567.093 56.6518 563.974 L62.1899 563.974 Q63.5267 567.125 64.227 570.435 Q64.9272 573.745 64.9272 577.151 Q64.9272 585.681 59.9619 590.678 Q54.9967 595.643 46.5303 595.643 Q37.7774 595.643 32.6531 590.933 Q27.4968 586.19 27.4968 578.169 Q27.4968 570.976 32.1438 566.807 Q36.7589 562.605 44.7161 562.605 M42.9973 568.462 Q38.1912 568.525 35.3266 571.167 Q32.4621 573.777 32.4621 578.106 Q32.4621 583.007 35.2312 585.967 Q38.0002 588.896 43.0292 589.341 L42.9973 568.462 Z\" fill=\"#000000\" fill-rule=\"nonzero\" fill-opacity=\"1\" /><path clip-path=\"url(#clip520)\" d=\"M987.89 14.0809 L987.89 22.0612 Q983.231 19.8332 979.099 18.7395 Q974.967 17.6457 971.119 17.6457 Q964.435 17.6457 960.789 20.2383 Q957.184 22.8309 957.184 27.611 Q957.184 31.6214 959.574 33.6873 Q962.004 35.7128 968.729 36.9686 L973.671 37.9813 Q982.826 39.7232 987.16 44.1387 Q991.535 48.5136 991.535 55.8863 Q991.535 64.6767 985.621 69.2137 Q979.747 73.7508 968.364 73.7508 Q964.07 73.7508 959.209 72.7785 Q954.389 71.8063 949.204 69.9024 L949.204 61.4765 Q954.186 64.2716 958.966 65.6895 Q963.746 67.1073 968.364 67.1073 Q975.372 67.1073 979.18 64.3527 Q982.988 61.598 982.988 56.4939 Q982.988 52.0379 980.233 49.5264 Q977.519 47.0148 971.281 45.759 L966.298 44.7868 Q957.143 42.9639 953.052 39.075 Q948.96 35.1862 948.96 28.2591 Q948.96 20.2383 954.591 15.6203 Q960.262 11.0023 970.187 11.0023 Q974.441 11.0023 978.856 11.7719 Q983.272 12.5416 987.89 14.0809 Z\" fill=\"#000000\" fill-rule=\"nonzero\" fill-opacity=\"1\" /><path clip-path=\"url(#clip520)\" d=\"M1008.43 49.9314 Q1008.43 58.1548 1011.79 62.8538 Q1015.19 67.5124 1021.11 67.5124 Q1027.02 67.5124 1030.42 62.8538 Q1033.83 58.1548 1033.83 49.9314 Q1033.83 41.7081 1030.42 37.0496 Q1027.02 32.3505 1021.11 32.3505 Q1015.19 32.3505 1011.79 37.0496 Q1008.43 41.7081 1008.43 49.9314 M1033.83 65.7705 Q1031.48 69.8214 1027.87 71.8063 Q1024.31 73.7508 1019.28 73.7508 Q1011.06 73.7508 1005.88 67.1883 Q1000.73 60.6258 1000.73 49.9314 Q1000.73 39.2371 1005.88 32.6746 Q1011.06 26.1121 1019.28 26.1121 Q1024.31 26.1121 1027.87 28.0971 Q1031.48 30.0415 1033.83 34.0924 L1033.83 27.2059 L1041.28 27.2059 L1041.28 89.8329 L1033.83 89.8329 L1033.83 65.7705 Z\" fill=\"#000000\" fill-rule=\"nonzero\" fill-opacity=\"1\" /><path clip-path=\"url(#clip520)\" d=\"M1055.86 54.671 L1055.86 27.2059 L1063.32 27.2059 L1063.32 54.3874 Q1063.32 60.8284 1065.83 64.0691 Q1068.34 67.2693 1073.36 67.2693 Q1079.4 67.2693 1082.88 63.421 Q1086.41 59.5726 1086.41 52.9291 L1086.41 27.2059 L1093.86 27.2059 L1093.86 72.576 L1086.41 72.576 L1086.41 65.6084 Q1083.69 69.7404 1080.09 71.7658 Q1076.52 73.7508 1071.78 73.7508 Q1063.97 73.7508 1059.91 68.8897 Q1055.86 64.0286 1055.86 54.671 M1074.62 26.1121 L1074.62 26.1121 Z\" fill=\"#000000\" fill-rule=\"nonzero\" fill-opacity=\"1\" /><path clip-path=\"url(#clip520)\" d=\"M1129.83 49.7694 Q1120.8 49.7694 1117.32 51.8354 Q1113.83 53.9013 1113.83 58.8839 Q1113.83 62.8538 1116.42 65.2034 Q1119.06 67.5124 1123.55 67.5124 Q1129.75 67.5124 1133.48 63.1374 Q1137.25 58.7219 1137.25 51.4303 L1137.25 49.7694 L1129.83 49.7694 M1144.7 46.6907 L1144.7 72.576 L1137.25 72.576 L1137.25 65.6895 Q1134.69 69.8214 1130.89 71.8063 Q1127.08 73.7508 1121.57 73.7508 Q1114.6 73.7508 1110.47 69.8619 Q1106.38 65.9325 1106.38 59.3701 Q1106.38 51.7138 1111.48 47.825 Q1116.63 43.9361 1126.8 43.9361 L1137.25 43.9361 L1137.25 43.2069 Q1137.25 38.0623 1133.84 35.2672 Q1130.48 32.4315 1124.36 32.4315 Q1120.48 32.4315 1116.79 33.3632 Q1113.1 34.295 1109.7 36.1584 L1109.7 29.2718 Q1113.79 27.692 1117.64 26.9223 Q1121.49 26.1121 1125.13 26.1121 Q1134.98 26.1121 1139.84 31.2163 Q1144.7 36.3204 1144.7 46.6907 Z\" fill=\"#000000\" fill-rule=\"nonzero\" fill-opacity=\"1\" /><path clip-path=\"url(#clip520)\" d=\"M1186.34 34.1734 Q1185.09 33.4443 1183.59 33.1202 Q1182.13 32.7556 1180.35 32.7556 Q1174.03 32.7556 1170.63 36.8875 Q1167.26 40.9789 1167.26 48.6757 L1167.26 72.576 L1159.77 72.576 L1159.77 27.2059 L1167.26 27.2059 L1167.26 34.2544 Q1169.61 30.1225 1173.38 28.1376 Q1177.15 26.1121 1182.54 26.1121 Q1183.31 26.1121 1184.24 26.2337 Q1185.17 26.3147 1186.3 26.5172 L1186.34 34.1734 Z\" fill=\"#000000\" fill-rule=\"nonzero\" fill-opacity=\"1\" /><path clip-path=\"url(#clip520)\" d=\"M1231.15 48.0275 L1231.15 51.6733 L1196.88 51.6733 Q1197.36 59.3701 1201.49 63.421 Q1205.67 67.4314 1213.08 67.4314 Q1217.37 67.4314 1221.38 66.3781 Q1225.43 65.3249 1229.4 63.2184 L1229.4 70.267 Q1225.39 71.9684 1221.18 72.8596 Q1216.97 73.7508 1212.63 73.7508 Q1201.78 73.7508 1195.42 67.4314 Q1189.1 61.1119 1189.1 50.3365 Q1189.1 39.1965 1195.09 32.6746 Q1201.13 26.1121 1211.34 26.1121 Q1220.49 26.1121 1225.8 32.0264 Q1231.15 37.9003 1231.15 48.0275 M1223.69 45.84 Q1223.61 39.7232 1220.25 36.0774 Q1216.93 32.4315 1211.42 32.4315 Q1205.18 32.4315 1201.41 35.9558 Q1197.69 39.4801 1197.12 45.8805 L1223.69 45.84 Z\" fill=\"#000000\" fill-rule=\"nonzero\" fill-opacity=\"1\" /><path clip-path=\"url(#clip520)\" d=\"M1270.08 12.096 L1304.83 12.096 L1304.83 18.9825 L1278.26 18.9825 L1278.26 36.8065 L1302.24 36.8065 L1302.24 43.6931 L1278.26 43.6931 L1278.26 72.576 L1270.08 72.576 L1270.08 12.096 Z\" fill=\"#000000\" fill-rule=\"nonzero\" fill-opacity=\"1\" /><path clip-path=\"url(#clip520)\" d=\"M1312.16 54.671 L1312.16 27.2059 L1319.62 27.2059 L1319.62 54.3874 Q1319.62 60.8284 1322.13 64.0691 Q1324.64 67.2693 1329.66 67.2693 Q1335.7 67.2693 1339.18 63.421 Q1342.71 59.5726 1342.71 52.9291 L1342.71 27.2059 L1350.16 27.2059 L1350.16 72.576 L1342.71 72.576 L1342.71 65.6084 Q1339.99 69.7404 1336.39 71.7658 Q1332.82 73.7508 1328.08 73.7508 Q1320.27 73.7508 1316.22 68.8897 Q1312.16 64.0286 1312.16 54.671 M1330.92 26.1121 L1330.92 26.1121 Z\" fill=\"#000000\" fill-rule=\"nonzero\" fill-opacity=\"1\" /><path clip-path=\"url(#clip520)\" d=\"M1403.23 45.1919 L1403.23 72.576 L1395.78 72.576 L1395.78 45.4349 Q1395.78 38.994 1393.26 35.7938 Q1390.75 32.5936 1385.73 32.5936 Q1379.69 32.5936 1376.21 36.4419 Q1372.73 40.2903 1372.73 46.9338 L1372.73 72.576 L1365.23 72.576 L1365.23 27.2059 L1372.73 27.2059 L1372.73 34.2544 Q1375.4 30.163 1379 28.1376 Q1382.65 26.1121 1387.39 26.1121 Q1395.21 26.1121 1399.22 30.9732 Q1403.23 35.7938 1403.23 45.1919 Z\" fill=\"#000000\" fill-rule=\"nonzero\" fill-opacity=\"1\" /><path clip-path=\"url(#clip520)\" d=\"M1450.75 28.9478 L1450.75 35.9153 Q1447.59 34.1734 1444.39 33.3227 Q1441.23 32.4315 1437.99 32.4315 Q1430.73 32.4315 1426.72 37.0496 Q1422.71 41.6271 1422.71 49.9314 Q1422.71 58.2358 1426.72 62.8538 Q1430.73 67.4314 1437.99 67.4314 Q1441.23 67.4314 1444.39 66.5807 Q1447.59 65.6895 1450.75 63.9476 L1450.75 70.8341 Q1447.63 72.2924 1444.26 73.0216 Q1440.94 73.7508 1437.18 73.7508 Q1426.93 73.7508 1420.89 67.3098 Q1414.85 60.8689 1414.85 49.9314 Q1414.85 38.832 1420.93 32.472 Q1427.05 26.1121 1437.66 26.1121 Q1441.1 26.1121 1444.39 26.8413 Q1447.67 27.5299 1450.75 28.9478 Z\" fill=\"#000000\" fill-rule=\"nonzero\" fill-opacity=\"1\" /><path clip-path=\"url(#clip520)\" d=\"M1471.08 14.324 L1471.08 27.2059 L1486.43 27.2059 L1486.43 32.9987 L1471.08 32.9987 L1471.08 57.6282 Q1471.08 63.1779 1472.58 64.7578 Q1474.12 66.3376 1478.78 66.3376 L1486.43 66.3376 L1486.43 72.576 L1478.78 72.576 Q1470.15 72.576 1466.87 69.3758 Q1463.59 66.1351 1463.59 57.6282 L1463.59 32.9987 L1458.12 32.9987 L1458.12 27.2059 L1463.59 27.2059 L1463.59 14.324 L1471.08 14.324 Z\" fill=\"#000000\" fill-rule=\"nonzero\" fill-opacity=\"1\" /><path clip-path=\"url(#clip520)\" d=\"M1496.24 27.2059 L1503.69 27.2059 L1503.69 72.576 L1496.24 72.576 L1496.24 27.2059 M1496.24 9.54393 L1503.69 9.54393 L1503.69 18.9825 L1496.24 18.9825 L1496.24 9.54393 Z\" fill=\"#000000\" fill-rule=\"nonzero\" fill-opacity=\"1\" /><path clip-path=\"url(#clip520)\" d=\"M1536.87 32.4315 Q1530.87 32.4315 1527.39 37.1306 Q1523.91 41.7891 1523.91 49.9314 Q1523.91 58.0738 1527.35 62.7728 Q1530.83 67.4314 1536.87 67.4314 Q1542.82 67.4314 1546.31 62.7323 Q1549.79 58.0333 1549.79 49.9314 Q1549.79 41.8701 1546.31 37.1711 Q1542.82 32.4315 1536.87 32.4315 M1536.87 26.1121 Q1546.59 26.1121 1552.14 32.4315 Q1557.69 38.7509 1557.69 49.9314 Q1557.69 61.0714 1552.14 67.4314 Q1546.59 73.7508 1536.87 73.7508 Q1527.11 73.7508 1521.56 67.4314 Q1516.05 61.0714 1516.05 49.9314 Q1516.05 38.7509 1521.56 32.4315 Q1527.11 26.1121 1536.87 26.1121 Z\" fill=\"#000000\" fill-rule=\"nonzero\" fill-opacity=\"1\" /><path clip-path=\"url(#clip520)\" d=\"M1607.76 45.1919 L1607.76 72.576 L1600.31 72.576 L1600.31 45.4349 Q1600.31 38.994 1597.79 35.7938 Q1595.28 32.5936 1590.26 32.5936 Q1584.22 32.5936 1580.74 36.4419 Q1577.26 40.2903 1577.26 46.9338 L1577.26 72.576 L1569.76 72.576 L1569.76 27.2059 L1577.26 27.2059 L1577.26 34.2544 Q1579.93 30.163 1583.53 28.1376 Q1587.18 26.1121 1591.92 26.1121 Q1599.74 26.1121 1603.75 30.9732 Q1607.76 35.7938 1607.76 45.1919 Z\" fill=\"#000000\" fill-rule=\"nonzero\" fill-opacity=\"1\" /><polyline clip-path=\"url(#clip522)\" style=\"stroke:#009af9; stroke-linecap:round; stroke-linejoin:round; stroke-width:4; stroke-opacity:1; fill:none\" points=\"264.778,160.256 467.495,601.666 670.211,944.985 872.927,1190.21 1075.64,1337.35 1278.36,1386.4 1481.08,1337.35 1683.79,1190.21 1886.51,944.985 2089.22,601.666 2291.94,160.256 \"/>\n",
              "<path clip-path=\"url(#clip520)\" d=\"M2013.82 1379.86 L2281.13 1379.86 L2281.13 1276.18 L2013.82 1276.18  Z\" fill=\"#ffffff\" fill-rule=\"evenodd\" fill-opacity=\"1\"/>\n",
              "<polyline clip-path=\"url(#clip520)\" style=\"stroke:#000000; stroke-linecap:round; stroke-linejoin:round; stroke-width:4; stroke-opacity:1; fill:none\" points=\"2013.82,1379.86 2281.13,1379.86 2281.13,1276.18 2013.82,1276.18 2013.82,1379.86 \"/>\n",
              "<polyline clip-path=\"url(#clip520)\" style=\"stroke:#009af9; stroke-linecap:round; stroke-linejoin:round; stroke-width:4; stroke-opacity:1; fill:none\" points=\"2037.7,1328.02 2180.95,1328.02 \"/>\n",
              "<path clip-path=\"url(#clip520)\" d=\"M2218.67 1347.7 Q2216.86 1352.33 2215.15 1353.75 Q2213.43 1355.16 2210.56 1355.16 L2207.16 1355.16 L2207.16 1351.59 L2209.66 1351.59 Q2211.42 1351.59 2212.39 1350.76 Q2213.37 1349.93 2214.55 1346.82 L2215.31 1344.88 L2204.82 1319.37 L2209.34 1319.37 L2217.44 1339.65 L2225.54 1319.37 L2230.06 1319.37 L2218.67 1347.7 Z\" fill=\"#000000\" fill-rule=\"nonzero\" fill-opacity=\"1\" /><path clip-path=\"url(#clip520)\" d=\"M2237.35 1341.36 L2244.99 1341.36 L2244.99 1315 L2236.68 1316.66 L2236.68 1312.4 L2244.94 1310.74 L2249.62 1310.74 L2249.62 1341.36 L2257.25 1341.36 L2257.25 1345.3 L2237.35 1345.3 L2237.35 1341.36 Z\" fill=\"#000000\" fill-rule=\"nonzero\" fill-opacity=\"1\" /></svg>\n"
            ],
            "text/html": [
              "<?xml version=\"1.0\" encoding=\"utf-8\"?>\n",
              "<svg xmlns=\"http://www.w3.org/2000/svg\" xmlns:xlink=\"http://www.w3.org/1999/xlink\" width=\"600\" height=\"400\" viewBox=\"0 0 2400 1600\">\n",
              "<defs>\n",
              "  <clipPath id=\"clip570\">\n",
              "    <rect x=\"0\" y=\"0\" width=\"2400\" height=\"1600\"/>\n",
              "  </clipPath>\n",
              "</defs>\n",
              "<path clip-path=\"url(#clip570)\" d=\"M0 1600 L2400 1600 L2400 0 L0 0  Z\" fill=\"#ffffff\" fill-rule=\"evenodd\" fill-opacity=\"1\"/>\n",
              "<defs>\n",
              "  <clipPath id=\"clip571\">\n",
              "    <rect x=\"480\" y=\"0\" width=\"1681\" height=\"1600\"/>\n",
              "  </clipPath>\n",
              "</defs>\n",
              "<path clip-path=\"url(#clip570)\" d=\"M203.964 1423.18 L2352.76 1423.18 L2352.76 123.472 L203.964 123.472  Z\" fill=\"#ffffff\" fill-rule=\"evenodd\" fill-opacity=\"1\"/>\n",
              "<defs>\n",
              "  <clipPath id=\"clip572\">\n",
              "    <rect x=\"203\" y=\"123\" width=\"2150\" height=\"1301\"/>\n",
              "  </clipPath>\n",
              "</defs>\n",
              "<polyline clip-path=\"url(#clip572)\" style=\"stroke:#000000; stroke-linecap:round; stroke-linejoin:round; stroke-width:2; stroke-opacity:0.1; fill:none\" points=\"467.495,1423.18 467.495,123.472 \"/>\n",
              "<polyline clip-path=\"url(#clip572)\" style=\"stroke:#000000; stroke-linecap:round; stroke-linejoin:round; stroke-width:2; stroke-opacity:0.1; fill:none\" points=\"872.927,1423.18 872.927,123.472 \"/>\n",
              "<polyline clip-path=\"url(#clip572)\" style=\"stroke:#000000; stroke-linecap:round; stroke-linejoin:round; stroke-width:2; stroke-opacity:0.1; fill:none\" points=\"1278.36,1423.18 1278.36,123.472 \"/>\n",
              "<polyline clip-path=\"url(#clip572)\" style=\"stroke:#000000; stroke-linecap:round; stroke-linejoin:round; stroke-width:2; stroke-opacity:0.1; fill:none\" points=\"1683.79,1423.18 1683.79,123.472 \"/>\n",
              "<polyline clip-path=\"url(#clip572)\" style=\"stroke:#000000; stroke-linecap:round; stroke-linejoin:round; stroke-width:2; stroke-opacity:0.1; fill:none\" points=\"2089.22,1423.18 2089.22,123.472 \"/>\n",
              "<polyline clip-path=\"url(#clip570)\" style=\"stroke:#000000; stroke-linecap:round; stroke-linejoin:round; stroke-width:4; stroke-opacity:1; fill:none\" points=\"203.964,1423.18 2352.76,1423.18 \"/>\n",
              "<polyline clip-path=\"url(#clip570)\" style=\"stroke:#000000; stroke-linecap:round; stroke-linejoin:round; stroke-width:4; stroke-opacity:1; fill:none\" points=\"467.495,1423.18 467.495,1404.28 \"/>\n",
              "<polyline clip-path=\"url(#clip570)\" style=\"stroke:#000000; stroke-linecap:round; stroke-linejoin:round; stroke-width:4; stroke-opacity:1; fill:none\" points=\"872.927,1423.18 872.927,1404.28 \"/>\n",
              "<polyline clip-path=\"url(#clip570)\" style=\"stroke:#000000; stroke-linecap:round; stroke-linejoin:round; stroke-width:4; stroke-opacity:1; fill:none\" points=\"1278.36,1423.18 1278.36,1404.28 \"/>\n",
              "<polyline clip-path=\"url(#clip570)\" style=\"stroke:#000000; stroke-linecap:round; stroke-linejoin:round; stroke-width:4; stroke-opacity:1; fill:none\" points=\"1683.79,1423.18 1683.79,1404.28 \"/>\n",
              "<polyline clip-path=\"url(#clip570)\" style=\"stroke:#000000; stroke-linecap:round; stroke-linejoin:round; stroke-width:4; stroke-opacity:1; fill:none\" points=\"2089.22,1423.18 2089.22,1404.28 \"/>\n",
              "<path clip-path=\"url(#clip570)\" d=\"M436.395 1468.75 L466.071 1468.75 L466.071 1472.69 L436.395 1472.69 L436.395 1468.75 Z\" fill=\"#000000\" fill-rule=\"nonzero\" fill-opacity=\"1\" /><path clip-path=\"url(#clip570)\" d=\"M489.011 1455.09 L477.205 1473.54 L489.011 1473.54 L489.011 1455.09 M487.784 1451.02 L493.664 1451.02 L493.664 1473.54 L498.594 1473.54 L498.594 1477.43 L493.664 1477.43 L493.664 1485.58 L489.011 1485.58 L489.011 1477.43 L473.409 1477.43 L473.409 1472.92 L487.784 1451.02 Z\" fill=\"#000000\" fill-rule=\"nonzero\" fill-opacity=\"1\" /><path clip-path=\"url(#clip570)\" d=\"M842.87 1468.75 L872.545 1468.75 L872.545 1472.69 L842.87 1472.69 L842.87 1468.75 Z\" fill=\"#000000\" fill-rule=\"nonzero\" fill-opacity=\"1\" /><path clip-path=\"url(#clip570)\" d=\"M886.666 1481.64 L902.985 1481.64 L902.985 1485.58 L881.041 1485.58 L881.041 1481.64 Q883.703 1478.89 888.286 1474.26 Q892.892 1469.61 894.073 1468.27 Q896.318 1465.74 897.198 1464.01 Q898.101 1462.25 898.101 1460.56 Q898.101 1457.8 896.156 1456.07 Q894.235 1454.33 891.133 1454.33 Q888.934 1454.33 886.48 1455.09 Q884.05 1455.86 881.272 1457.41 L881.272 1452.69 Q884.096 1451.55 886.55 1450.97 Q889.004 1450.39 891.041 1450.39 Q896.411 1450.39 899.605 1453.08 Q902.8 1455.77 902.8 1460.26 Q902.8 1462.39 901.99 1464.31 Q901.203 1466.2 899.096 1468.8 Q898.517 1469.47 895.416 1472.69 Q892.314 1475.88 886.666 1481.64 Z\" fill=\"#000000\" fill-rule=\"nonzero\" fill-opacity=\"1\" /><path clip-path=\"url(#clip570)\" d=\"M1278.36 1454.1 Q1274.75 1454.1 1272.92 1457.66 Q1271.11 1461.2 1271.11 1468.33 Q1271.11 1475.44 1272.92 1479.01 Q1274.75 1482.55 1278.36 1482.55 Q1281.99 1482.55 1283.8 1479.01 Q1285.63 1475.44 1285.63 1468.33 Q1285.63 1461.2 1283.8 1457.66 Q1281.99 1454.1 1278.36 1454.1 M1278.36 1450.39 Q1284.17 1450.39 1287.23 1455 Q1290.3 1459.58 1290.3 1468.33 Q1290.3 1477.06 1287.23 1481.67 Q1284.17 1486.25 1278.36 1486.25 Q1272.55 1486.25 1269.47 1481.67 Q1266.42 1477.06 1266.42 1468.33 Q1266.42 1459.58 1269.47 1455 Q1272.55 1450.39 1278.36 1450.39 Z\" fill=\"#000000\" fill-rule=\"nonzero\" fill-opacity=\"1\" /><path clip-path=\"url(#clip570)\" d=\"M1678.45 1481.64 L1694.76 1481.64 L1694.76 1485.58 L1672.82 1485.58 L1672.82 1481.64 Q1675.48 1478.89 1680.07 1474.26 Q1684.67 1469.61 1685.85 1468.27 Q1688.1 1465.74 1688.98 1464.01 Q1689.88 1462.25 1689.88 1460.56 Q1689.88 1457.8 1687.94 1456.07 Q1686.01 1454.33 1682.91 1454.33 Q1680.71 1454.33 1678.26 1455.09 Q1675.83 1455.86 1673.05 1457.41 L1673.05 1452.69 Q1675.88 1451.55 1678.33 1450.97 Q1680.78 1450.39 1682.82 1450.39 Q1688.19 1450.39 1691.38 1453.08 Q1694.58 1455.77 1694.58 1460.26 Q1694.58 1462.39 1693.77 1464.31 Q1692.98 1466.2 1690.88 1468.8 Q1690.3 1469.47 1687.2 1472.69 Q1684.09 1475.88 1678.45 1481.64 Z\" fill=\"#000000\" fill-rule=\"nonzero\" fill-opacity=\"1\" /><path clip-path=\"url(#clip570)\" d=\"M2092.23 1455.09 L2080.43 1473.54 L2092.23 1473.54 L2092.23 1455.09 M2091.01 1451.02 L2096.89 1451.02 L2096.89 1473.54 L2101.82 1473.54 L2101.82 1477.43 L2096.89 1477.43 L2096.89 1485.58 L2092.23 1485.58 L2092.23 1477.43 L2076.63 1477.43 L2076.63 1472.92 L2091.01 1451.02 Z\" fill=\"#000000\" fill-rule=\"nonzero\" fill-opacity=\"1\" /><path clip-path=\"url(#clip570)\" d=\"M1052.39 1520.52 L1058.82 1520.52 L1058.82 1568.04 L1052.39 1568.04 L1052.39 1520.52 Z\" fill=\"#000000\" fill-rule=\"nonzero\" fill-opacity=\"1\" /><path clip-path=\"url(#clip570)\" d=\"M1101 1546.53 L1101 1568.04 L1095.14 1568.04 L1095.14 1546.72 Q1095.14 1541.66 1093.17 1539.14 Q1091.19 1536.63 1087.25 1536.63 Q1082.5 1536.63 1079.77 1539.65 Q1077.03 1542.68 1077.03 1547.9 L1077.03 1568.04 L1071.14 1568.04 L1071.14 1532.4 L1077.03 1532.4 L1077.03 1537.93 Q1079.13 1534.72 1081.96 1533.13 Q1084.83 1531.54 1088.55 1531.54 Q1094.69 1531.54 1097.84 1535.36 Q1101 1539.14 1101 1546.53 Z\" fill=\"#000000\" fill-rule=\"nonzero\" fill-opacity=\"1\" /><path clip-path=\"url(#clip570)\" d=\"M1118.47 1522.27 L1118.47 1532.4 L1130.53 1532.4 L1130.53 1536.95 L1118.47 1536.95 L1118.47 1556.3 Q1118.47 1560.66 1119.65 1561.9 Q1120.86 1563.14 1124.52 1563.14 L1130.53 1563.14 L1130.53 1568.04 L1124.52 1568.04 Q1117.74 1568.04 1115.16 1565.53 Q1112.58 1562.98 1112.58 1556.3 L1112.58 1536.95 L1108.28 1536.95 L1108.28 1532.4 L1112.58 1532.4 L1112.58 1522.27 L1118.47 1522.27 Z\" fill=\"#000000\" fill-rule=\"nonzero\" fill-opacity=\"1\" /><path clip-path=\"url(#clip570)\" d=\"M1168.73 1548.76 L1168.73 1551.62 L1141.8 1551.62 Q1142.18 1557.67 1145.43 1560.85 Q1148.71 1564 1154.53 1564 Q1157.9 1564 1161.06 1563.17 Q1164.24 1562.35 1167.36 1560.69 L1167.36 1566.23 Q1164.21 1567.57 1160.9 1568.27 Q1157.59 1568.97 1154.18 1568.97 Q1145.65 1568.97 1140.65 1564 Q1135.69 1559.04 1135.69 1550.57 Q1135.69 1541.82 1140.4 1536.69 Q1145.14 1531.54 1153.16 1531.54 Q1160.36 1531.54 1164.52 1536.18 Q1168.73 1540.8 1168.73 1548.76 M1162.87 1547.04 Q1162.81 1542.23 1160.16 1539.37 Q1157.55 1536.5 1153.23 1536.5 Q1148.32 1536.5 1145.36 1539.27 Q1142.44 1542.04 1141.99 1547.07 L1162.87 1547.04 Z\" fill=\"#000000\" fill-rule=\"nonzero\" fill-opacity=\"1\" /><path clip-path=\"url(#clip570)\" d=\"M1201.8 1549.81 Q1201.8 1543.44 1199.15 1539.94 Q1196.54 1536.44 1191.8 1536.44 Q1187.09 1536.44 1184.45 1539.94 Q1181.84 1543.44 1181.84 1549.81 Q1181.84 1556.14 1184.45 1559.64 Q1187.09 1563.14 1191.8 1563.14 Q1196.54 1563.14 1199.15 1559.64 Q1201.8 1556.14 1201.8 1549.81 M1207.65 1563.62 Q1207.65 1572.72 1203.61 1577.15 Q1199.57 1581.6 1191.23 1581.6 Q1188.14 1581.6 1185.4 1581.13 Q1182.67 1580.68 1180.09 1579.72 L1180.09 1574.03 Q1182.67 1575.43 1185.18 1576.1 Q1187.7 1576.76 1190.31 1576.76 Q1196.07 1576.76 1198.93 1573.74 Q1201.8 1570.75 1201.8 1564.67 L1201.8 1561.77 Q1199.98 1564.92 1197.15 1566.48 Q1194.32 1568.04 1190.37 1568.04 Q1183.81 1568.04 1179.8 1563.05 Q1175.79 1558.05 1175.79 1549.81 Q1175.79 1541.53 1179.8 1536.53 Q1183.81 1531.54 1190.37 1531.54 Q1194.32 1531.54 1197.15 1533.1 Q1199.98 1534.66 1201.8 1537.81 L1201.8 1532.4 L1207.65 1532.4 L1207.65 1563.62 Z\" fill=\"#000000\" fill-rule=\"nonzero\" fill-opacity=\"1\" /><path clip-path=\"url(#clip570)\" d=\"M1250.21 1548.76 L1250.21 1551.62 L1223.28 1551.62 Q1223.66 1557.67 1226.91 1560.85 Q1230.19 1564 1236.01 1564 Q1239.39 1564 1242.54 1563.17 Q1245.72 1562.35 1248.84 1560.69 L1248.84 1566.23 Q1245.69 1567.57 1242.38 1568.27 Q1239.07 1568.97 1235.66 1568.97 Q1227.13 1568.97 1222.13 1564 Q1217.17 1559.04 1217.17 1550.57 Q1217.17 1541.82 1221.88 1536.69 Q1226.62 1531.54 1234.64 1531.54 Q1241.84 1531.54 1246.01 1536.18 Q1250.21 1540.8 1250.21 1548.76 M1244.35 1547.04 Q1244.29 1542.23 1241.65 1539.37 Q1239.04 1536.5 1234.71 1536.5 Q1229.81 1536.5 1226.85 1539.27 Q1223.92 1542.04 1223.47 1547.07 L1244.35 1547.04 Z\" fill=\"#000000\" fill-rule=\"nonzero\" fill-opacity=\"1\" /><path clip-path=\"url(#clip570)\" d=\"M1280.48 1537.87 Q1279.49 1537.3 1278.31 1537.04 Q1277.17 1536.76 1275.77 1536.76 Q1270.8 1536.76 1268.13 1540 Q1265.49 1543.22 1265.49 1549.27 L1265.49 1568.04 L1259.6 1568.04 L1259.6 1532.4 L1265.49 1532.4 L1265.49 1537.93 Q1267.33 1534.69 1270.29 1533.13 Q1273.25 1531.54 1277.48 1531.54 Q1278.09 1531.54 1278.82 1531.63 Q1279.55 1531.7 1280.44 1531.85 L1280.48 1537.87 Z\" fill=\"#000000\" fill-rule=\"nonzero\" fill-opacity=\"1\" /><path clip-path=\"url(#clip570)\" d=\"M1330.13 1545.76 Q1332.2 1546.46 1334.14 1548.76 Q1336.11 1551.05 1338.09 1555.06 L1344.61 1568.04 L1337.7 1568.04 L1331.62 1555.85 Q1329.27 1551.08 1327.04 1549.52 Q1324.85 1547.96 1321.03 1547.96 L1314.02 1547.96 L1314.02 1568.04 L1307.59 1568.04 L1307.59 1520.52 L1322.11 1520.52 Q1330.26 1520.52 1334.27 1523.93 Q1338.28 1527.34 1338.28 1534.21 Q1338.28 1538.7 1336.18 1541.66 Q1334.11 1544.62 1330.13 1545.76 M1314.02 1525.81 L1314.02 1542.68 L1322.11 1542.68 Q1326.76 1542.68 1329.11 1540.54 Q1331.5 1538.38 1331.5 1534.21 Q1331.5 1530.04 1329.11 1527.94 Q1326.76 1525.81 1322.11 1525.81 L1314.02 1525.81 Z\" fill=\"#000000\" fill-rule=\"nonzero\" fill-opacity=\"1\" /><path clip-path=\"url(#clip570)\" d=\"M1367.4 1550.12 Q1360.3 1550.12 1357.57 1551.75 Q1354.83 1553.37 1354.83 1557.29 Q1354.83 1560.4 1356.86 1562.25 Q1358.93 1564.07 1362.47 1564.07 Q1367.34 1564.07 1370.26 1560.63 Q1373.22 1557.16 1373.22 1551.43 L1373.22 1550.12 L1367.4 1550.12 M1379.08 1547.71 L1379.08 1568.04 L1373.22 1568.04 L1373.22 1562.63 Q1371.22 1565.88 1368.23 1567.44 Q1365.24 1568.97 1360.91 1568.97 Q1355.43 1568.97 1352.19 1565.91 Q1348.97 1562.82 1348.97 1557.67 Q1348.97 1551.65 1352.98 1548.6 Q1357.02 1545.54 1365.01 1545.54 L1373.22 1545.54 L1373.22 1544.97 Q1373.22 1540.93 1370.55 1538.73 Q1367.91 1536.5 1363.1 1536.5 Q1360.05 1536.5 1357.15 1537.23 Q1354.25 1537.97 1351.58 1539.43 L1351.58 1534.02 Q1354.8 1532.78 1357.82 1532.17 Q1360.84 1531.54 1363.71 1531.54 Q1371.44 1531.54 1375.26 1535.55 Q1379.08 1539.56 1379.08 1547.71 Z\" fill=\"#000000\" fill-rule=\"nonzero\" fill-opacity=\"1\" /><path clip-path=\"url(#clip570)\" d=\"M1420.78 1546.53 L1420.78 1568.04 L1414.92 1568.04 L1414.92 1546.72 Q1414.92 1541.66 1412.95 1539.14 Q1410.97 1536.63 1407.03 1536.63 Q1402.28 1536.63 1399.55 1539.65 Q1396.81 1542.68 1396.81 1547.9 L1396.81 1568.04 L1390.92 1568.04 L1390.92 1532.4 L1396.81 1532.4 L1396.81 1537.93 Q1398.91 1534.72 1401.74 1533.13 Q1404.61 1531.54 1408.33 1531.54 Q1414.47 1531.54 1417.63 1535.36 Q1420.78 1539.14 1420.78 1546.53 Z\" fill=\"#000000\" fill-rule=\"nonzero\" fill-opacity=\"1\" /><path clip-path=\"url(#clip570)\" d=\"M1455.92 1549.81 Q1455.92 1543.44 1453.27 1539.94 Q1450.66 1536.44 1445.92 1536.44 Q1441.21 1536.44 1438.57 1539.94 Q1435.96 1543.44 1435.96 1549.81 Q1435.96 1556.14 1438.57 1559.64 Q1441.21 1563.14 1445.92 1563.14 Q1450.66 1563.14 1453.27 1559.64 Q1455.92 1556.14 1455.92 1549.81 M1461.77 1563.62 Q1461.77 1572.72 1457.73 1577.15 Q1453.69 1581.6 1445.35 1581.6 Q1442.26 1581.6 1439.52 1581.13 Q1436.79 1580.68 1434.21 1579.72 L1434.21 1574.03 Q1436.79 1575.43 1439.3 1576.1 Q1441.82 1576.76 1444.43 1576.76 Q1450.19 1576.76 1453.05 1573.74 Q1455.92 1570.75 1455.92 1564.67 L1455.92 1561.77 Q1454.1 1564.92 1451.27 1566.48 Q1448.44 1568.04 1444.49 1568.04 Q1437.93 1568.04 1433.92 1563.05 Q1429.91 1558.05 1429.91 1549.81 Q1429.91 1541.53 1433.92 1536.53 Q1437.93 1531.54 1444.49 1531.54 Q1448.44 1531.54 1451.27 1533.1 Q1454.1 1534.66 1455.92 1537.81 L1455.92 1532.4 L1461.77 1532.4 L1461.77 1563.62 Z\" fill=\"#000000\" fill-rule=\"nonzero\" fill-opacity=\"1\" /><path clip-path=\"url(#clip570)\" d=\"M1504.33 1548.76 L1504.33 1551.62 L1477.4 1551.62 Q1477.78 1557.67 1481.03 1560.85 Q1484.31 1564 1490.13 1564 Q1493.5 1564 1496.66 1563.17 Q1499.84 1562.35 1502.96 1560.69 L1502.96 1566.23 Q1499.81 1567.57 1496.5 1568.27 Q1493.19 1568.97 1489.78 1568.97 Q1481.25 1568.97 1476.25 1564 Q1471.29 1559.04 1471.29 1550.57 Q1471.29 1541.82 1476 1536.69 Q1480.74 1531.54 1488.76 1531.54 Q1495.96 1531.54 1500.13 1536.18 Q1504.33 1540.8 1504.33 1548.76 M1498.47 1547.04 Q1498.41 1542.23 1495.76 1539.37 Q1493.15 1536.5 1488.83 1536.5 Q1483.92 1536.5 1480.96 1539.27 Q1478.04 1542.04 1477.59 1547.07 L1498.47 1547.04 Z\" fill=\"#000000\" fill-rule=\"nonzero\" fill-opacity=\"1\" /><polyline clip-path=\"url(#clip572)\" style=\"stroke:#000000; stroke-linecap:round; stroke-linejoin:round; stroke-width:2; stroke-opacity:0.1; fill:none\" points=\"203.964,1386.4 2352.76,1386.4 \"/>\n",
              "<polyline clip-path=\"url(#clip572)\" style=\"stroke:#000000; stroke-linecap:round; stroke-linejoin:round; stroke-width:2; stroke-opacity:0.1; fill:none\" points=\"203.964,1141.17 2352.76,1141.17 \"/>\n",
              "<polyline clip-path=\"url(#clip572)\" style=\"stroke:#000000; stroke-linecap:round; stroke-linejoin:round; stroke-width:2; stroke-opacity:0.1; fill:none\" points=\"203.964,895.94 2352.76,895.94 \"/>\n",
              "<polyline clip-path=\"url(#clip572)\" style=\"stroke:#000000; stroke-linecap:round; stroke-linejoin:round; stroke-width:2; stroke-opacity:0.1; fill:none\" points=\"203.964,650.712 2352.76,650.712 \"/>\n",
              "<polyline clip-path=\"url(#clip572)\" style=\"stroke:#000000; stroke-linecap:round; stroke-linejoin:round; stroke-width:2; stroke-opacity:0.1; fill:none\" points=\"203.964,405.484 2352.76,405.484 \"/>\n",
              "<polyline clip-path=\"url(#clip572)\" style=\"stroke:#000000; stroke-linecap:round; stroke-linejoin:round; stroke-width:2; stroke-opacity:0.1; fill:none\" points=\"203.964,160.256 2352.76,160.256 \"/>\n",
              "<polyline clip-path=\"url(#clip570)\" style=\"stroke:#000000; stroke-linecap:round; stroke-linejoin:round; stroke-width:4; stroke-opacity:1; fill:none\" points=\"203.964,1423.18 203.964,123.472 \"/>\n",
              "<polyline clip-path=\"url(#clip570)\" style=\"stroke:#000000; stroke-linecap:round; stroke-linejoin:round; stroke-width:4; stroke-opacity:1; fill:none\" points=\"203.964,1386.4 222.861,1386.4 \"/>\n",
              "<polyline clip-path=\"url(#clip570)\" style=\"stroke:#000000; stroke-linecap:round; stroke-linejoin:round; stroke-width:4; stroke-opacity:1; fill:none\" points=\"203.964,1141.17 222.861,1141.17 \"/>\n",
              "<polyline clip-path=\"url(#clip570)\" style=\"stroke:#000000; stroke-linecap:round; stroke-linejoin:round; stroke-width:4; stroke-opacity:1; fill:none\" points=\"203.964,895.94 222.861,895.94 \"/>\n",
              "<polyline clip-path=\"url(#clip570)\" style=\"stroke:#000000; stroke-linecap:round; stroke-linejoin:round; stroke-width:4; stroke-opacity:1; fill:none\" points=\"203.964,650.712 222.861,650.712 \"/>\n",
              "<polyline clip-path=\"url(#clip570)\" style=\"stroke:#000000; stroke-linecap:round; stroke-linejoin:round; stroke-width:4; stroke-opacity:1; fill:none\" points=\"203.964,405.484 222.861,405.484 \"/>\n",
              "<polyline clip-path=\"url(#clip570)\" style=\"stroke:#000000; stroke-linecap:round; stroke-linejoin:round; stroke-width:4; stroke-opacity:1; fill:none\" points=\"203.964,160.256 222.861,160.256 \"/>\n",
              "<path clip-path=\"url(#clip570)\" d=\"M156.019 1372.19 Q152.408 1372.19 150.579 1375.76 Q148.774 1379.3 148.774 1386.43 Q148.774 1393.54 150.579 1397.1 Q152.408 1400.64 156.019 1400.64 Q159.653 1400.64 161.459 1397.1 Q163.288 1393.54 163.288 1386.43 Q163.288 1379.3 161.459 1375.76 Q159.653 1372.19 156.019 1372.19 M156.019 1368.49 Q161.829 1368.49 164.885 1373.1 Q167.964 1377.68 167.964 1386.43 Q167.964 1395.16 164.885 1399.76 Q161.829 1404.35 156.019 1404.35 Q150.209 1404.35 147.13 1399.76 Q144.075 1395.16 144.075 1386.43 Q144.075 1377.68 147.13 1373.1 Q150.209 1368.49 156.019 1368.49 Z\" fill=\"#000000\" fill-rule=\"nonzero\" fill-opacity=\"1\" /><path clip-path=\"url(#clip570)\" d=\"M147.061 1123.89 L165.417 1123.89 L165.417 1127.82 L151.343 1127.82 L151.343 1136.3 Q152.362 1135.95 153.38 1135.79 Q154.399 1135.6 155.417 1135.6 Q161.204 1135.6 164.584 1138.77 Q167.964 1141.94 167.964 1147.36 Q167.964 1152.94 164.491 1156.04 Q161.019 1159.12 154.7 1159.12 Q152.524 1159.12 150.255 1158.75 Q148.01 1158.38 145.603 1157.64 L145.603 1152.94 Q147.686 1154.07 149.908 1154.63 Q152.13 1155.18 154.607 1155.18 Q158.612 1155.18 160.95 1153.08 Q163.288 1150.97 163.288 1147.36 Q163.288 1143.75 160.95 1141.64 Q158.612 1139.54 154.607 1139.54 Q152.732 1139.54 150.857 1139.95 Q149.005 1140.37 147.061 1141.25 L147.061 1123.89 Z\" fill=\"#000000\" fill-rule=\"nonzero\" fill-opacity=\"1\" /><path clip-path=\"url(#clip570)\" d=\"M116.668 909.285 L124.306 909.285 L124.306 882.919 L115.996 884.586 L115.996 880.327 L124.26 878.66 L128.936 878.66 L128.936 909.285 L136.575 909.285 L136.575 913.22 L116.668 913.22 L116.668 909.285 Z\" fill=\"#000000\" fill-rule=\"nonzero\" fill-opacity=\"1\" /><path clip-path=\"url(#clip570)\" d=\"M156.019 881.739 Q152.408 881.739 150.579 885.303 Q148.774 888.845 148.774 895.975 Q148.774 903.081 150.579 906.646 Q152.408 910.188 156.019 910.188 Q159.653 910.188 161.459 906.646 Q163.288 903.081 163.288 895.975 Q163.288 888.845 161.459 885.303 Q159.653 881.739 156.019 881.739 M156.019 878.035 Q161.829 878.035 164.885 882.641 Q167.964 887.225 167.964 895.975 Q167.964 904.701 164.885 909.308 Q161.829 913.891 156.019 913.891 Q150.209 913.891 147.13 909.308 Q144.075 904.701 144.075 895.975 Q144.075 887.225 147.13 882.641 Q150.209 878.035 156.019 878.035 Z\" fill=\"#000000\" fill-rule=\"nonzero\" fill-opacity=\"1\" /><path clip-path=\"url(#clip570)\" d=\"M117.663 664.057 L125.302 664.057 L125.302 637.691 L116.992 639.358 L116.992 635.099 L125.255 633.432 L129.931 633.432 L129.931 664.057 L137.57 664.057 L137.57 667.992 L117.663 667.992 L117.663 664.057 Z\" fill=\"#000000\" fill-rule=\"nonzero\" fill-opacity=\"1\" /><path clip-path=\"url(#clip570)\" d=\"M147.061 633.432 L165.417 633.432 L165.417 637.367 L151.343 637.367 L151.343 645.839 Q152.362 645.492 153.38 645.33 Q154.399 645.145 155.417 645.145 Q161.204 645.145 164.584 648.316 Q167.964 651.488 167.964 656.904 Q167.964 662.483 164.491 665.585 Q161.019 668.663 154.7 668.663 Q152.524 668.663 150.255 668.293 Q148.01 667.923 145.603 667.182 L145.603 662.483 Q147.686 663.617 149.908 664.173 Q152.13 664.728 154.607 664.728 Q158.612 664.728 160.95 662.622 Q163.288 660.515 163.288 656.904 Q163.288 653.293 160.95 651.187 Q158.612 649.08 154.607 649.08 Q152.732 649.08 150.857 649.497 Q149.005 649.913 147.061 650.793 L147.061 633.432 Z\" fill=\"#000000\" fill-rule=\"nonzero\" fill-opacity=\"1\" /><path clip-path=\"url(#clip570)\" d=\"M119.885 418.829 L136.204 418.829 L136.204 422.764 L114.26 422.764 L114.26 418.829 Q116.922 416.074 121.505 411.445 Q126.112 406.792 127.292 405.449 Q129.538 402.926 130.417 401.19 Q131.32 399.431 131.32 397.741 Q131.32 394.987 129.376 393.25 Q127.455 391.514 124.353 391.514 Q122.154 391.514 119.7 392.278 Q117.269 393.042 114.492 394.593 L114.492 389.871 Q117.316 388.737 119.769 388.158 Q122.223 387.579 124.26 387.579 Q129.63 387.579 132.825 390.264 Q136.019 392.95 136.019 397.44 Q136.019 399.57 135.209 401.491 Q134.422 403.389 132.316 405.982 Q131.737 406.653 128.635 409.871 Q125.533 413.065 119.885 418.829 Z\" fill=\"#000000\" fill-rule=\"nonzero\" fill-opacity=\"1\" /><path clip-path=\"url(#clip570)\" d=\"M156.019 391.283 Q152.408 391.283 150.579 394.848 Q148.774 398.389 148.774 405.519 Q148.774 412.625 150.579 416.19 Q152.408 419.732 156.019 419.732 Q159.653 419.732 161.459 416.19 Q163.288 412.625 163.288 405.519 Q163.288 398.389 161.459 394.848 Q159.653 391.283 156.019 391.283 M156.019 387.579 Q161.829 387.579 164.885 392.186 Q167.964 396.769 167.964 405.519 Q167.964 414.246 164.885 418.852 Q161.829 423.435 156.019 423.435 Q150.209 423.435 147.13 418.852 Q144.075 414.246 144.075 405.519 Q144.075 396.769 147.13 392.186 Q150.209 387.579 156.019 387.579 Z\" fill=\"#000000\" fill-rule=\"nonzero\" fill-opacity=\"1\" /><path clip-path=\"url(#clip570)\" d=\"M120.88 173.601 L137.2 173.601 L137.2 177.536 L115.256 177.536 L115.256 173.601 Q117.918 170.847 122.501 166.217 Q127.107 161.564 128.288 160.222 Q130.533 157.698 131.413 155.962 Q132.316 154.203 132.316 152.513 Q132.316 149.759 130.371 148.023 Q128.45 146.286 125.348 146.286 Q123.149 146.286 120.695 147.05 Q118.265 147.814 115.487 149.365 L115.487 144.643 Q118.311 143.509 120.765 142.93 Q123.218 142.351 125.255 142.351 Q130.626 142.351 133.82 145.036 Q137.015 147.722 137.015 152.212 Q137.015 154.342 136.204 156.263 Q135.417 158.161 133.311 160.754 Q132.732 161.425 129.63 164.643 Q126.529 167.837 120.88 173.601 Z\" fill=\"#000000\" fill-rule=\"nonzero\" fill-opacity=\"1\" /><path clip-path=\"url(#clip570)\" d=\"M147.061 142.976 L165.417 142.976 L165.417 146.911 L151.343 146.911 L151.343 155.384 Q152.362 155.036 153.38 154.874 Q154.399 154.689 155.417 154.689 Q161.204 154.689 164.584 157.86 Q167.964 161.032 167.964 166.448 Q167.964 172.027 164.491 175.129 Q161.019 178.208 154.7 178.208 Q152.524 178.208 150.255 177.837 Q148.01 177.467 145.603 176.726 L145.603 172.027 Q147.686 173.161 149.908 173.717 Q152.13 174.272 154.607 174.272 Q158.612 174.272 160.95 172.166 Q163.288 170.059 163.288 166.448 Q163.288 162.837 160.95 160.731 Q158.612 158.624 154.607 158.624 Q152.732 158.624 150.857 159.041 Q149.005 159.458 147.061 160.337 L147.061 142.976 Z\" fill=\"#000000\" fill-rule=\"nonzero\" fill-opacity=\"1\" /><path clip-path=\"url(#clip570)\" d=\"M18.0438 953.46 L24.314 953.46 Q22.5634 957.12 21.704 960.366 Q20.8447 963.613 20.8447 966.637 Q20.8447 971.888 22.8817 974.753 Q24.9187 977.586 28.6745 977.586 Q31.8255 977.586 33.4488 975.708 Q35.0402 973.798 36.0269 968.514 L36.8226 964.631 Q38.1912 957.438 41.6605 954.032 Q45.098 950.595 50.8908 950.595 Q57.7976 950.595 61.3624 955.242 Q64.9272 959.857 64.9272 968.801 Q64.9272 972.175 64.1633 975.994 Q63.3994 979.782 61.9035 983.856 L55.2831 983.856 Q57.4793 979.941 58.5933 976.185 Q59.7073 972.429 59.7073 968.801 Q59.7073 963.295 57.543 960.303 Q55.3786 957.311 51.3682 957.311 Q47.8671 957.311 45.8937 959.475 Q43.9204 961.608 42.9337 966.509 L42.1698 970.424 Q40.7375 977.617 37.682 980.832 Q34.6264 984.047 29.1837 984.047 Q22.8817 984.047 19.2532 979.623 Q15.6248 975.167 15.6248 967.369 Q15.6248 964.027 16.2295 960.557 Q16.8343 957.088 18.0438 953.46 Z\" fill=\"#000000\" fill-rule=\"nonzero\" fill-opacity=\"1\" /><path clip-path=\"url(#clip570)\" d=\"M46.212 937.323 Q52.6732 937.323 56.3653 934.681 Q60.0256 932.007 60.0256 927.36 Q60.0256 922.713 56.3653 920.04 Q52.6732 917.366 46.212 917.366 Q39.7508 917.366 36.0905 920.04 Q32.3984 922.713 32.3984 927.36 Q32.3984 932.007 36.0905 934.681 Q39.7508 937.323 46.212 937.323 M58.657 917.366 Q61.8398 919.212 63.3994 922.045 Q64.9272 924.846 64.9272 928.792 Q64.9272 935.254 59.771 939.328 Q54.6147 943.37 46.212 943.37 Q37.8093 943.37 32.6531 939.328 Q27.4968 935.254 27.4968 928.792 Q27.4968 924.846 29.0564 922.045 Q30.5842 919.212 33.7671 917.366 L28.3562 917.366 L28.3562 911.51 L77.5631 911.51 L77.5631 917.366 L58.657 917.366 Z\" fill=\"#000000\" fill-rule=\"nonzero\" fill-opacity=\"1\" /><path clip-path=\"url(#clip570)\" d=\"M49.9359 900.051 L28.3562 900.051 L28.3562 894.195 L49.7131 894.195 Q54.7739 894.195 57.3202 892.221 Q59.8346 890.248 59.8346 886.301 Q59.8346 881.559 56.8109 878.822 Q53.7872 876.053 48.5673 876.053 L28.3562 876.053 L28.3562 870.196 L64.0042 870.196 L64.0042 876.053 L58.5296 876.053 Q61.7762 878.185 63.3676 881.018 Q64.9272 883.819 64.9272 887.543 Q64.9272 893.686 61.1078 896.868 Q57.2883 900.051 49.9359 900.051 M27.4968 885.315 L27.4968 885.315 Z\" fill=\"#000000\" fill-rule=\"nonzero\" fill-opacity=\"1\" /><path clip-path=\"url(#clip570)\" d=\"M46.0847 841.932 Q46.0847 849.03 47.7079 851.767 Q49.3312 854.505 53.2461 854.505 Q56.3653 854.505 58.2114 852.468 Q60.0256 850.399 60.0256 846.866 Q60.0256 841.996 56.5881 839.068 Q53.1188 836.108 47.3897 836.108 L46.0847 836.108 L46.0847 841.932 M43.6657 830.251 L64.0042 830.251 L64.0042 836.108 L58.5933 836.108 Q61.8398 838.113 63.3994 841.105 Q64.9272 844.097 64.9272 848.425 Q64.9272 853.9 61.8716 857.146 Q58.7843 860.361 53.6281 860.361 Q47.6125 860.361 44.5569 856.351 Q41.5014 852.308 41.5014 844.32 L41.5014 836.108 L40.9285 836.108 Q36.8862 836.108 34.6901 838.781 Q32.4621 841.423 32.4621 846.229 Q32.4621 849.285 33.1941 852.181 Q33.9262 855.078 35.3903 857.751 L29.9795 857.751 Q28.7381 854.536 28.1334 851.513 Q27.4968 848.489 27.4968 845.624 Q27.4968 837.89 31.5072 834.071 Q35.5176 830.251 43.6657 830.251 Z\" fill=\"#000000\" fill-rule=\"nonzero\" fill-opacity=\"1\" /><path clip-path=\"url(#clip570)\" d=\"M33.8307 797.532 Q33.2578 798.518 33.0032 799.696 Q32.7167 800.842 32.7167 802.242 Q32.7167 807.207 35.9632 809.881 Q39.1779 812.523 45.2253 812.523 L64.0042 812.523 L64.0042 818.411 L28.3562 818.411 L28.3562 812.523 L33.8944 812.523 Q30.6479 810.677 29.0883 807.717 Q27.4968 804.757 27.4968 800.523 Q27.4968 799.919 27.5923 799.187 Q27.656 798.455 27.8151 797.563 L33.8307 797.532 Z\" fill=\"#000000\" fill-rule=\"nonzero\" fill-opacity=\"1\" /><path clip-path=\"url(#clip570)\" d=\"M44.7161 762.329 L47.5806 762.329 L47.5806 789.256 Q53.6281 788.874 56.8109 785.628 Q59.9619 782.349 59.9619 776.525 Q59.9619 773.151 59.1344 770 Q58.3069 766.817 56.6518 763.698 L62.1899 763.698 Q63.5267 766.849 64.227 770.159 Q64.9272 773.469 64.9272 776.875 Q64.9272 785.405 59.9619 790.402 Q54.9967 795.367 46.5303 795.367 Q37.7774 795.367 32.6531 790.657 Q27.4968 785.914 27.4968 777.893 Q27.4968 770.7 32.1438 766.531 Q36.7589 762.329 44.7161 762.329 M42.9973 768.186 Q38.1912 768.249 35.3266 770.891 Q32.4621 773.501 32.4621 777.83 Q32.4621 782.731 35.2312 785.691 Q38.0002 788.62 43.0292 789.065 L42.9973 768.186 Z\" fill=\"#000000\" fill-rule=\"nonzero\" fill-opacity=\"1\" /><path clip-path=\"url(#clip570)\" d=\"M64.0042 719.488 L16.4842 737.63 L16.4842 730.914 L56.4926 715.86 L16.4842 700.773 L16.4842 694.089 L64.0042 712.199 L64.0042 719.488 Z\" fill=\"#000000\" fill-rule=\"nonzero\" fill-opacity=\"1\" /><path clip-path=\"url(#clip570)\" d=\"M46.0847 676.265 Q46.0847 683.363 47.7079 686.1 Q49.3312 688.837 53.2461 688.837 Q56.3653 688.837 58.2114 686.8 Q60.0256 684.731 60.0256 681.198 Q60.0256 676.329 56.5881 673.4 Q53.1188 670.44 47.3897 670.44 L46.0847 670.44 L46.0847 676.265 M43.6657 664.584 L64.0042 664.584 L64.0042 670.44 L58.5933 670.44 Q61.8398 672.445 63.3994 675.437 Q64.9272 678.429 64.9272 682.758 Q64.9272 688.232 61.8716 691.479 Q58.7843 694.694 53.6281 694.694 Q47.6125 694.694 44.5569 690.683 Q41.5014 686.641 41.5014 678.652 L41.5014 670.44 L40.9285 670.44 Q36.8862 670.44 34.6901 673.114 Q32.4621 675.756 32.4621 680.562 Q32.4621 683.617 33.1941 686.514 Q33.9262 689.41 35.3903 692.084 L29.9795 692.084 Q28.7381 688.869 28.1334 685.845 Q27.4968 682.822 27.4968 679.957 Q27.4968 672.223 31.5072 668.403 Q35.5176 664.584 43.6657 664.584 Z\" fill=\"#000000\" fill-rule=\"nonzero\" fill-opacity=\"1\" /><path clip-path=\"url(#clip570)\" d=\"M14.479 652.521 L14.479 646.664 L64.0042 646.664 L64.0042 652.521 L14.479 652.521 Z\" fill=\"#000000\" fill-rule=\"nonzero\" fill-opacity=\"1\" /><path clip-path=\"url(#clip570)\" d=\"M49.9359 635.015 L28.3562 635.015 L28.3562 629.159 L49.7131 629.159 Q54.7739 629.159 57.3202 627.185 Q59.8346 625.212 59.8346 621.265 Q59.8346 616.523 56.8109 613.785 Q53.7872 611.016 48.5673 611.016 L28.3562 611.016 L28.3562 605.16 L64.0042 605.16 L64.0042 611.016 L58.5296 611.016 Q61.7762 613.149 63.3676 615.982 Q64.9272 618.783 64.9272 622.506 Q64.9272 628.649 61.1078 631.832 Q57.2883 635.015 49.9359 635.015 M27.4968 620.278 L27.4968 620.278 Z\" fill=\"#000000\" fill-rule=\"nonzero\" fill-opacity=\"1\" /><path clip-path=\"url(#clip570)\" d=\"M44.7161 562.605 L47.5806 562.605 L47.5806 589.532 Q53.6281 589.15 56.8109 585.904 Q59.9619 582.625 59.9619 576.801 Q59.9619 573.427 59.1344 570.276 Q58.3069 567.093 56.6518 563.974 L62.1899 563.974 Q63.5267 567.125 64.227 570.435 Q64.9272 573.745 64.9272 577.151 Q64.9272 585.681 59.9619 590.678 Q54.9967 595.643 46.5303 595.643 Q37.7774 595.643 32.6531 590.933 Q27.4968 586.19 27.4968 578.169 Q27.4968 570.976 32.1438 566.807 Q36.7589 562.605 44.7161 562.605 M42.9973 568.462 Q38.1912 568.525 35.3266 571.167 Q32.4621 573.777 32.4621 578.106 Q32.4621 583.007 35.2312 585.967 Q38.0002 588.896 43.0292 589.341 L42.9973 568.462 Z\" fill=\"#000000\" fill-rule=\"nonzero\" fill-opacity=\"1\" /><path clip-path=\"url(#clip570)\" d=\"M987.89 14.0809 L987.89 22.0612 Q983.231 19.8332 979.099 18.7395 Q974.967 17.6457 971.119 17.6457 Q964.435 17.6457 960.789 20.2383 Q957.184 22.8309 957.184 27.611 Q957.184 31.6214 959.574 33.6873 Q962.004 35.7128 968.729 36.9686 L973.671 37.9813 Q982.826 39.7232 987.16 44.1387 Q991.535 48.5136 991.535 55.8863 Q991.535 64.6767 985.621 69.2137 Q979.747 73.7508 968.364 73.7508 Q964.07 73.7508 959.209 72.7785 Q954.389 71.8063 949.204 69.9024 L949.204 61.4765 Q954.186 64.2716 958.966 65.6895 Q963.746 67.1073 968.364 67.1073 Q975.372 67.1073 979.18 64.3527 Q982.988 61.598 982.988 56.4939 Q982.988 52.0379 980.233 49.5264 Q977.519 47.0148 971.281 45.759 L966.298 44.7868 Q957.143 42.9639 953.052 39.075 Q948.96 35.1862 948.96 28.2591 Q948.96 20.2383 954.591 15.6203 Q960.262 11.0023 970.187 11.0023 Q974.441 11.0023 978.856 11.7719 Q983.272 12.5416 987.89 14.0809 Z\" fill=\"#000000\" fill-rule=\"nonzero\" fill-opacity=\"1\" /><path clip-path=\"url(#clip570)\" d=\"M1008.43 49.9314 Q1008.43 58.1548 1011.79 62.8538 Q1015.19 67.5124 1021.11 67.5124 Q1027.02 67.5124 1030.42 62.8538 Q1033.83 58.1548 1033.83 49.9314 Q1033.83 41.7081 1030.42 37.0496 Q1027.02 32.3505 1021.11 32.3505 Q1015.19 32.3505 1011.79 37.0496 Q1008.43 41.7081 1008.43 49.9314 M1033.83 65.7705 Q1031.48 69.8214 1027.87 71.8063 Q1024.31 73.7508 1019.28 73.7508 Q1011.06 73.7508 1005.88 67.1883 Q1000.73 60.6258 1000.73 49.9314 Q1000.73 39.2371 1005.88 32.6746 Q1011.06 26.1121 1019.28 26.1121 Q1024.31 26.1121 1027.87 28.0971 Q1031.48 30.0415 1033.83 34.0924 L1033.83 27.2059 L1041.28 27.2059 L1041.28 89.8329 L1033.83 89.8329 L1033.83 65.7705 Z\" fill=\"#000000\" fill-rule=\"nonzero\" fill-opacity=\"1\" /><path clip-path=\"url(#clip570)\" d=\"M1055.86 54.671 L1055.86 27.2059 L1063.32 27.2059 L1063.32 54.3874 Q1063.32 60.8284 1065.83 64.0691 Q1068.34 67.2693 1073.36 67.2693 Q1079.4 67.2693 1082.88 63.421 Q1086.41 59.5726 1086.41 52.9291 L1086.41 27.2059 L1093.86 27.2059 L1093.86 72.576 L1086.41 72.576 L1086.41 65.6084 Q1083.69 69.7404 1080.09 71.7658 Q1076.52 73.7508 1071.78 73.7508 Q1063.97 73.7508 1059.91 68.8897 Q1055.86 64.0286 1055.86 54.671 M1074.62 26.1121 L1074.62 26.1121 Z\" fill=\"#000000\" fill-rule=\"nonzero\" fill-opacity=\"1\" /><path clip-path=\"url(#clip570)\" d=\"M1129.83 49.7694 Q1120.8 49.7694 1117.32 51.8354 Q1113.83 53.9013 1113.83 58.8839 Q1113.83 62.8538 1116.42 65.2034 Q1119.06 67.5124 1123.55 67.5124 Q1129.75 67.5124 1133.48 63.1374 Q1137.25 58.7219 1137.25 51.4303 L1137.25 49.7694 L1129.83 49.7694 M1144.7 46.6907 L1144.7 72.576 L1137.25 72.576 L1137.25 65.6895 Q1134.69 69.8214 1130.89 71.8063 Q1127.08 73.7508 1121.57 73.7508 Q1114.6 73.7508 1110.47 69.8619 Q1106.38 65.9325 1106.38 59.3701 Q1106.38 51.7138 1111.48 47.825 Q1116.63 43.9361 1126.8 43.9361 L1137.25 43.9361 L1137.25 43.2069 Q1137.25 38.0623 1133.84 35.2672 Q1130.48 32.4315 1124.36 32.4315 Q1120.48 32.4315 1116.79 33.3632 Q1113.1 34.295 1109.7 36.1584 L1109.7 29.2718 Q1113.79 27.692 1117.64 26.9223 Q1121.49 26.1121 1125.13 26.1121 Q1134.98 26.1121 1139.84 31.2163 Q1144.7 36.3204 1144.7 46.6907 Z\" fill=\"#000000\" fill-rule=\"nonzero\" fill-opacity=\"1\" /><path clip-path=\"url(#clip570)\" d=\"M1186.34 34.1734 Q1185.09 33.4443 1183.59 33.1202 Q1182.13 32.7556 1180.35 32.7556 Q1174.03 32.7556 1170.63 36.8875 Q1167.26 40.9789 1167.26 48.6757 L1167.26 72.576 L1159.77 72.576 L1159.77 27.2059 L1167.26 27.2059 L1167.26 34.2544 Q1169.61 30.1225 1173.38 28.1376 Q1177.15 26.1121 1182.54 26.1121 Q1183.31 26.1121 1184.24 26.2337 Q1185.17 26.3147 1186.3 26.5172 L1186.34 34.1734 Z\" fill=\"#000000\" fill-rule=\"nonzero\" fill-opacity=\"1\" /><path clip-path=\"url(#clip570)\" d=\"M1231.15 48.0275 L1231.15 51.6733 L1196.88 51.6733 Q1197.36 59.3701 1201.49 63.421 Q1205.67 67.4314 1213.08 67.4314 Q1217.37 67.4314 1221.38 66.3781 Q1225.43 65.3249 1229.4 63.2184 L1229.4 70.267 Q1225.39 71.9684 1221.18 72.8596 Q1216.97 73.7508 1212.63 73.7508 Q1201.78 73.7508 1195.42 67.4314 Q1189.1 61.1119 1189.1 50.3365 Q1189.1 39.1965 1195.09 32.6746 Q1201.13 26.1121 1211.34 26.1121 Q1220.49 26.1121 1225.8 32.0264 Q1231.15 37.9003 1231.15 48.0275 M1223.69 45.84 Q1223.61 39.7232 1220.25 36.0774 Q1216.93 32.4315 1211.42 32.4315 Q1205.18 32.4315 1201.41 35.9558 Q1197.69 39.4801 1197.12 45.8805 L1223.69 45.84 Z\" fill=\"#000000\" fill-rule=\"nonzero\" fill-opacity=\"1\" /><path clip-path=\"url(#clip570)\" d=\"M1270.08 12.096 L1304.83 12.096 L1304.83 18.9825 L1278.26 18.9825 L1278.26 36.8065 L1302.24 36.8065 L1302.24 43.6931 L1278.26 43.6931 L1278.26 72.576 L1270.08 72.576 L1270.08 12.096 Z\" fill=\"#000000\" fill-rule=\"nonzero\" fill-opacity=\"1\" /><path clip-path=\"url(#clip570)\" d=\"M1312.16 54.671 L1312.16 27.2059 L1319.62 27.2059 L1319.62 54.3874 Q1319.62 60.8284 1322.13 64.0691 Q1324.64 67.2693 1329.66 67.2693 Q1335.7 67.2693 1339.18 63.421 Q1342.71 59.5726 1342.71 52.9291 L1342.71 27.2059 L1350.16 27.2059 L1350.16 72.576 L1342.71 72.576 L1342.71 65.6084 Q1339.99 69.7404 1336.39 71.7658 Q1332.82 73.7508 1328.08 73.7508 Q1320.27 73.7508 1316.22 68.8897 Q1312.16 64.0286 1312.16 54.671 M1330.92 26.1121 L1330.92 26.1121 Z\" fill=\"#000000\" fill-rule=\"nonzero\" fill-opacity=\"1\" /><path clip-path=\"url(#clip570)\" d=\"M1403.23 45.1919 L1403.23 72.576 L1395.78 72.576 L1395.78 45.4349 Q1395.78 38.994 1393.26 35.7938 Q1390.75 32.5936 1385.73 32.5936 Q1379.69 32.5936 1376.21 36.4419 Q1372.73 40.2903 1372.73 46.9338 L1372.73 72.576 L1365.23 72.576 L1365.23 27.2059 L1372.73 27.2059 L1372.73 34.2544 Q1375.4 30.163 1379 28.1376 Q1382.65 26.1121 1387.39 26.1121 Q1395.21 26.1121 1399.22 30.9732 Q1403.23 35.7938 1403.23 45.1919 Z\" fill=\"#000000\" fill-rule=\"nonzero\" fill-opacity=\"1\" /><path clip-path=\"url(#clip570)\" d=\"M1450.75 28.9478 L1450.75 35.9153 Q1447.59 34.1734 1444.39 33.3227 Q1441.23 32.4315 1437.99 32.4315 Q1430.73 32.4315 1426.72 37.0496 Q1422.71 41.6271 1422.71 49.9314 Q1422.71 58.2358 1426.72 62.8538 Q1430.73 67.4314 1437.99 67.4314 Q1441.23 67.4314 1444.39 66.5807 Q1447.59 65.6895 1450.75 63.9476 L1450.75 70.8341 Q1447.63 72.2924 1444.26 73.0216 Q1440.94 73.7508 1437.18 73.7508 Q1426.93 73.7508 1420.89 67.3098 Q1414.85 60.8689 1414.85 49.9314 Q1414.85 38.832 1420.93 32.472 Q1427.05 26.1121 1437.66 26.1121 Q1441.1 26.1121 1444.39 26.8413 Q1447.67 27.5299 1450.75 28.9478 Z\" fill=\"#000000\" fill-rule=\"nonzero\" fill-opacity=\"1\" /><path clip-path=\"url(#clip570)\" d=\"M1471.08 14.324 L1471.08 27.2059 L1486.43 27.2059 L1486.43 32.9987 L1471.08 32.9987 L1471.08 57.6282 Q1471.08 63.1779 1472.58 64.7578 Q1474.12 66.3376 1478.78 66.3376 L1486.43 66.3376 L1486.43 72.576 L1478.78 72.576 Q1470.15 72.576 1466.87 69.3758 Q1463.59 66.1351 1463.59 57.6282 L1463.59 32.9987 L1458.12 32.9987 L1458.12 27.2059 L1463.59 27.2059 L1463.59 14.324 L1471.08 14.324 Z\" fill=\"#000000\" fill-rule=\"nonzero\" fill-opacity=\"1\" /><path clip-path=\"url(#clip570)\" d=\"M1496.24 27.2059 L1503.69 27.2059 L1503.69 72.576 L1496.24 72.576 L1496.24 27.2059 M1496.24 9.54393 L1503.69 9.54393 L1503.69 18.9825 L1496.24 18.9825 L1496.24 9.54393 Z\" fill=\"#000000\" fill-rule=\"nonzero\" fill-opacity=\"1\" /><path clip-path=\"url(#clip570)\" d=\"M1536.87 32.4315 Q1530.87 32.4315 1527.39 37.1306 Q1523.91 41.7891 1523.91 49.9314 Q1523.91 58.0738 1527.35 62.7728 Q1530.83 67.4314 1536.87 67.4314 Q1542.82 67.4314 1546.31 62.7323 Q1549.79 58.0333 1549.79 49.9314 Q1549.79 41.8701 1546.31 37.1711 Q1542.82 32.4315 1536.87 32.4315 M1536.87 26.1121 Q1546.59 26.1121 1552.14 32.4315 Q1557.69 38.7509 1557.69 49.9314 Q1557.69 61.0714 1552.14 67.4314 Q1546.59 73.7508 1536.87 73.7508 Q1527.11 73.7508 1521.56 67.4314 Q1516.05 61.0714 1516.05 49.9314 Q1516.05 38.7509 1521.56 32.4315 Q1527.11 26.1121 1536.87 26.1121 Z\" fill=\"#000000\" fill-rule=\"nonzero\" fill-opacity=\"1\" /><path clip-path=\"url(#clip570)\" d=\"M1607.76 45.1919 L1607.76 72.576 L1600.31 72.576 L1600.31 45.4349 Q1600.31 38.994 1597.79 35.7938 Q1595.28 32.5936 1590.26 32.5936 Q1584.22 32.5936 1580.74 36.4419 Q1577.26 40.2903 1577.26 46.9338 L1577.26 72.576 L1569.76 72.576 L1569.76 27.2059 L1577.26 27.2059 L1577.26 34.2544 Q1579.93 30.163 1583.53 28.1376 Q1587.18 26.1121 1591.92 26.1121 Q1599.74 26.1121 1603.75 30.9732 Q1607.76 35.7938 1607.76 45.1919 Z\" fill=\"#000000\" fill-rule=\"nonzero\" fill-opacity=\"1\" /><polyline clip-path=\"url(#clip572)\" style=\"stroke:#009af9; stroke-linecap:round; stroke-linejoin:round; stroke-width:4; stroke-opacity:1; fill:none\" points=\"264.778,160.256 467.495,601.666 670.211,944.985 872.927,1190.21 1075.64,1337.35 1278.36,1386.4 1481.08,1337.35 1683.79,1190.21 1886.51,944.985 2089.22,601.666 2291.94,160.256 \"/>\n",
              "<path clip-path=\"url(#clip570)\" d=\"M2013.82 1379.86 L2281.13 1379.86 L2281.13 1276.18 L2013.82 1276.18  Z\" fill=\"#ffffff\" fill-rule=\"evenodd\" fill-opacity=\"1\"/>\n",
              "<polyline clip-path=\"url(#clip570)\" style=\"stroke:#000000; stroke-linecap:round; stroke-linejoin:round; stroke-width:4; stroke-opacity:1; fill:none\" points=\"2013.82,1379.86 2281.13,1379.86 2281.13,1276.18 2013.82,1276.18 2013.82,1379.86 \"/>\n",
              "<polyline clip-path=\"url(#clip570)\" style=\"stroke:#009af9; stroke-linecap:round; stroke-linejoin:round; stroke-width:4; stroke-opacity:1; fill:none\" points=\"2037.7,1328.02 2180.95,1328.02 \"/>\n",
              "<path clip-path=\"url(#clip570)\" d=\"M2218.67 1347.7 Q2216.86 1352.33 2215.15 1353.75 Q2213.43 1355.16 2210.56 1355.16 L2207.16 1355.16 L2207.16 1351.59 L2209.66 1351.59 Q2211.42 1351.59 2212.39 1350.76 Q2213.37 1349.93 2214.55 1346.82 L2215.31 1344.88 L2204.82 1319.37 L2209.34 1319.37 L2217.44 1339.65 L2225.54 1319.37 L2230.06 1319.37 L2218.67 1347.7 Z\" fill=\"#000000\" fill-rule=\"nonzero\" fill-opacity=\"1\" /><path clip-path=\"url(#clip570)\" d=\"M2237.35 1341.36 L2244.99 1341.36 L2244.99 1315 L2236.68 1316.66 L2236.68 1312.4 L2244.94 1310.74 L2249.62 1310.74 L2249.62 1341.36 L2257.25 1341.36 L2257.25 1345.3 L2237.35 1345.3 L2237.35 1341.36 Z\" fill=\"#000000\" fill-rule=\"nonzero\" fill-opacity=\"1\" /></svg>\n"
            ]
          },
          "metadata": {},
          "output_type": "display_data"
        }
      ],
      "source": [
        "# insert your code here\n",
        "function square(x)\n",
        "    return x*x\n",
        "end\n",
        "\n",
        "x=[-5:5]\n",
        "y=[]\n",
        "for i in -5:5\n",
        "    push!(y,square(i))\n",
        "end\n",
        "\n",
        "plot(x, y, xlabel=\"Integer Range\", ylabel=\"Square Value\", title=\"Square Function\")"
      ]
    },
    {
      "cell_type": "markdown",
      "id": "34785bb2",
      "metadata": {},
      "source": [
        "### Code Explanation\n",
        "I wrote a function called square that takes the square of the input variable by multiplying it by itself. Then, I made an array for both the x and y values of the graph I will be plotting using a for loop and the square function. Then, I plotted the graph using \"Tutorial: Making Plots with Julia.\""
      ]
    },
    {
      "cell_type": "markdown",
      "id": "eaca6031-e691-4019-9986-e7127b3df842",
      "metadata": {},
      "source": [
        "## Commit and Push Your Changes to GitHub\n",
        "\n",
        "After completing the previous two exercises, commit your solution file\n",
        "(notebook or otherwise) and push to GitHub. Use an informative commit\n",
        "message which makes it clear what changes you’ve made. The specific\n",
        "workflow for this will vary depending on how you’re writing up your\n",
        "solutions; please search for specifics and ask for help as needed!\n",
        "\n",
        "> **Useful Commit Sizes**\n",
        ">\n",
        "> Ideally, you’d commit whenever you make a “substantial” enough change\n",
        "> that you want to lock in, such as writing the core code for a problem\n",
        "> or completing a problem, if you’re preparing code to be used elsewhere\n",
        "> (by yourself or others), or if you want to ask for help. `git` lets\n",
        "> you revert changes back to a previous commit, so it’s easy to undo\n",
        "> changes or updates which broke something that was previously working,\n",
        "> so changing too many things at once can make it hard to keep track of\n",
        "> what worked when.\n",
        ">\n",
        "> But in this case, go ahead and just commit after finishing the\n",
        "> problems.\n",
        "\n",
        "Push the repository with these commits to GitHub and take a screenshot\n",
        "of the repository page\n",
        "(`https://github.com/BEE4750-FA24/<username>/lab01`) which shows the\n",
        "updated repository. Include that screenshot in your submission as the\n",
        "solution to this problem.\n",
        "\n",
        "## Submitting PDF\n",
        "\n",
        "> **Important**\n",
        ">\n",
        "> These submission instructions will not be repeated on future\n",
        "> assignments!\n",
        "\n",
        "Export your writeup as a PDF and submit it to the “Lab 1” assignment on\n",
        "Gradescope. Make sure that you tag pages corresponding to relevant\n",
        "problems to avoid a 10% penalty.\n",
        "\n",
        "> **Printing Code to PDF**\n",
        ">\n",
        "> You are not required to submit your code when submitting assignments.\n",
        "> However, when printing a notebook to PDF, long lines will run off the\n",
        "> edge of code cells, which may result in comments or code being hidden.\n",
        "> If you see this, go back to the notebook and break up long lines into\n",
        "> shorter onces (for example, see the comment in the above code cell) to\n",
        "> ensure key parts of your results aren’t missing."
      ]
    }
  ],
  "metadata": {
    "kernel_info": {
      "name": "julia"
    },
    "kernelspec": {
      "display_name": "Julia 1.8.5",
      "language": "julia",
      "name": "julia-1.8"
    },
    "language_info": {
      "file_extension": ".jl",
      "mimetype": "application/julia",
      "name": "julia",
      "version": "1.8.5"
    }
  },
  "nbformat": 4,
  "nbformat_minor": 5
}
